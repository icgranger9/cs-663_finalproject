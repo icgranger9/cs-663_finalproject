{
  "nbformat": 4,
  "nbformat_minor": 0,
  "metadata": {
    "colab": {
      "name": "granger_cnn.ipynb",
      "provenance": [],
      "collapsed_sections": [],
      "authorship_tag": "ABX9TyNufwW9YjbCk3f/kA8ho1Uf",
      "include_colab_link": true
    },
    "kernelspec": {
      "name": "python3",
      "display_name": "Python 3"
    },
    "accelerator": "GPU"
  },
  "cells": [
    {
      "cell_type": "markdown",
      "metadata": {
        "id": "view-in-github",
        "colab_type": "text"
      },
      "source": [
        "<a href=\"https://colab.research.google.com/github/icgranger9/cs-663_finalproject/blob/master/granger_cnn.ipynb\" target=\"_parent\"><img src=\"https://colab.research.google.com/assets/colab-badge.svg\" alt=\"Open In Colab\"/></a>"
      ]
    },
    {
      "cell_type": "code",
      "metadata": {
        "id": "xb94aExo80RG",
        "colab_type": "code",
        "colab": {}
      },
      "source": [
        "import os\n",
        "import pandas as pd\n",
        "import tensorflow as tf\n",
        "\n",
        "from google.colab import drive\n",
        "from sklearn.model_selection import train_test_split\n",
        "\n",
        "from tensorflow.keras import Model\n",
        "from tensorflow.keras.layers import Dense, Flatten, Conv2D, MaxPooling2D, Dropout\n",
        "from tensorflow.keras.preprocessing.image import ImageDataGenerator"
      ],
      "execution_count": 0,
      "outputs": []
    },
    {
      "cell_type": "code",
      "metadata": {
        "id": "XDUtIsJ7CNWC",
        "colab_type": "code",
        "outputId": "3996840a-3640-4526-8b75-db3af9bf6c7d",
        "colab": {
          "base_uri": "https://localhost:8080/",
          "height": 122
        }
      },
      "source": [
        "# Connect to google drive.\n",
        "drive.mount('/content/drive')"
      ],
      "execution_count": 3,
      "outputs": [
        {
          "output_type": "stream",
          "text": [
            "Go to this URL in a browser: https://accounts.google.com/o/oauth2/auth?client_id=947318989803-6bn6qk8qdgf4n4g3pfee6491hc0brc4i.apps.googleusercontent.com&redirect_uri=urn%3aietf%3awg%3aoauth%3a2.0%3aoob&response_type=code&scope=email%20https%3a%2f%2fwww.googleapis.com%2fauth%2fdocs.test%20https%3a%2f%2fwww.googleapis.com%2fauth%2fdrive%20https%3a%2f%2fwww.googleapis.com%2fauth%2fdrive.photos.readonly%20https%3a%2f%2fwww.googleapis.com%2fauth%2fpeopleapi.readonly\n",
            "\n",
            "Enter your authorization code:\n",
            "··········\n",
            "Mounted at /content/drive\n"
          ],
          "name": "stdout"
        }
      ]
    },
    {
      "cell_type": "code",
      "metadata": {
        "id": "VOc-W63FCN42",
        "colab_type": "code",
        "outputId": "b48ba969-a12e-4779-c324-4850139d076a",
        "colab": {
          "base_uri": "https://localhost:8080/",
          "height": 255
        }
      },
      "source": [
        "# Start loading data.\n",
        "dir = \"drive/My Drive/cs663_final/\"  # Specific to my google drive\n",
        "image_dir = dir + 'stage_1_test_images'\n",
        "\n",
        "data = pd.read_csv(dir + 'tuning_labels.csv', header=None)\n",
        "\n",
        "data[0] = data.iloc[:,0]+'.jpg'\n",
        "data[1] = pd.Series(map(lambda x: x.split(), data.iloc[:,1]))\n",
        "print(data)"
      ],
      "execution_count": 4,
      "outputs": [
        {
          "output_type": "stream",
          "text": [
            "                                0                                            1\n",
            "0    2b2f44594449326f4e52553d.jpg                       [/m/06ts_6, /m/01g317]\n",
            "1    2b333057383432514454593d.jpg  [/m/01g317, /m/06ts_6, /m/01jpn4, /m/0dnkv]\n",
            "2    2b38364476612f6c4558383d.jpg                        [/m/01g317, /m/05zp8]\n",
            "3    2b4270756237642b7456453d.jpg     [/m/0jjw, /m/015r61, /m/02csf, /m/05qdh]\n",
            "4    2b4534307571444f412b4d3d.jpg                                   [/m/099fz]\n",
            "..                            ...                                          ...\n",
            "995  7a652f354f56304578364d3d.jpg              [/m/05s2s, /m/083vt, /m/03ljvf]\n",
            "996  7a696a5a36356261572b6f3d.jpg                        [/m/0jyfg, /m/017ftj]\n",
            "997  7a704375527150436248733d.jpg                                   [/m/07j7r]\n",
            "998  7a752b505835372b496e633d.jpg                       [/m/012qyb, /m/01g317]\n",
            "999  7a767a496f6175625649633d.jpg                [/m/0jjw, /m/02csf, /m/05qdh]\n",
            "\n",
            "[1000 rows x 2 columns]\n"
          ],
          "name": "stdout"
        }
      ]
    },
    {
      "cell_type": "code",
      "metadata": {
        "id": "ue4HTgKaCN9g",
        "colab_type": "code",
        "outputId": "7af369fe-c1c4-424d-c44c-541584bcca44",
        "colab": {
          "base_uri": "https://localhost:8080/",
          "height": 255
        }
      },
      "source": [
        "# Split Test and Train Data\n",
        "\n",
        "train, test = train_test_split(data, test_size=0.2)\n",
        "train = train.reset_index(drop=True)\n",
        "test = test.reset_index(drop=True)\n",
        "train_input = train.iloc[:,0]\n",
        "test_input = test.iloc[:,0]\n",
        "train_labels = train.iloc[:,1:]\n",
        "test_labels = test.iloc[:,1:]\n",
        "\n",
        "print(train_labels)\n",
        "\n",
        "labels = []\n",
        "for i, r in train_labels.iterrows():\n",
        "  labels.extend(r[1])\n",
        "\n",
        "labels = list(set(labels))"
      ],
      "execution_count": 5,
      "outputs": [
        {
          "output_type": "stream",
          "text": [
            "                                               1\n",
            "0    [/m/0dnhy, /m/01g317, /m/017r8p, /m/01c8br]\n",
            "1                         [/m/01f4td, /m/01g317]\n",
            "2     [/m/0b9k6q, /m/04scj, /m/0frq6, /m/0g4q3r]\n",
            "3                 [/m/018vs, /m/0342h, /m/04szw]\n",
            "4                                     [/m/01yrx]\n",
            "..                                           ...\n",
            "795                        [/m/01c8br, /m/07j7r]\n",
            "796            [/m/025s8bs, /m/0hhdb, /m/01g317]\n",
            "797             [/m/07jdr, /m/01g317, /m/01vk9q]\n",
            "798                      [/m/08t9c_, /m/0263lr1]\n",
            "799                        [/m/02csf, /m/01g317]\n",
            "\n",
            "[800 rows x 1 columns]\n"
          ],
          "name": "stdout"
        }
      ]
    },
    {
      "cell_type": "code",
      "metadata": {
        "id": "--ql6gjUKsPH",
        "colab_type": "code",
        "colab": {
          "base_uri": "https://localhost:8080/",
          "height": 156
        },
        "outputId": "19f6794e-c459-4031-d44a-619b7f8fe839"
      },
      "source": [
        "# Create 'generators', which essentially grab the images in real time, to reduce memory load\n",
        "\n",
        "from tensorflow.keras.preprocessing.image import ImageDataGenerator\n",
        "\n",
        "\n",
        "data_generator = ImageDataGenerator(rescale = 1./255,\n",
        "                                    shear_range = 0.2,\n",
        "                                    zoom_range = 0.2,\n",
        "                                    horizontal_flip = True,\n",
        "                                    validation_split=0.2)\n",
        "\n",
        "train_generator = data_generator.flow_from_dataframe( dataframe=train,\n",
        "                                                      directory=image_dir,\n",
        "                                                      x_col=0,\n",
        "                                                      y_col=1,\n",
        "                                                      subset=\"training\",\n",
        "                                                      shuffle=True,\n",
        "                                                      class_mode=\"categorical\",\n",
        "                                                      target_size=(128,128),\n",
        "                                                      classes=labels,\n",
        "                                                      batch_size=32)\n",
        "                                                      \n",
        "valid_generator = data_generator.flow_from_dataframe( dataframe=train,\n",
        "                                                      directory=image_dir,\n",
        "                                                      x_col=0,\n",
        "                                                      y_col=1,\n",
        "                                                      subset=\"validation\",\n",
        "                                                      shuffle=True,\n",
        "                                                      class_mode=\"categorical\",\n",
        "                                                      target_size=(128,128),\n",
        "                                                      classes=labels,\n",
        "                                                      batch_size=32)\n",
        "\n",
        "test_datagen=ImageDataGenerator(rescale = 1./255,\n",
        "                                shear_range = 0.2,\n",
        "                                zoom_range = 0.2,\n",
        "                                horizontal_flip = True,)\n",
        "\n",
        "test_generator = test_datagen.flow_from_dataframe( dataframe=test,\n",
        "                                                      directory=image_dir,\n",
        "                                                      x_col=0,\n",
        "                                                      y_col=None,\n",
        "                                                      shuffle=False,\n",
        "                                                      class_mode=None,\n",
        "                                                      target_size=(128,128),\n",
        "                                                      batch_size=32)"
      ],
      "execution_count": 7,
      "outputs": [
        {
          "output_type": "stream",
          "text": [
            "/usr/local/lib/python3.6/dist-packages/keras_preprocessing/image/dataframe_iterator.py:273: UserWarning: Found 4 invalid image filename(s) in x_col=\"0\". These filename(s) will be ignored.\n",
            "  .format(n_invalid, x_col)\n"
          ],
          "name": "stderr"
        },
        {
          "output_type": "stream",
          "text": [
            "Found 637 validated image filenames belonging to 438 classes.\n",
            "Found 159 validated image filenames belonging to 438 classes.\n",
            "Found 197 validated image filenames.\n"
          ],
          "name": "stdout"
        },
        {
          "output_type": "stream",
          "text": [
            "/usr/local/lib/python3.6/dist-packages/keras_preprocessing/image/dataframe_iterator.py:273: UserWarning: Found 3 invalid image filename(s) in x_col=\"0\". These filename(s) will be ignored.\n",
            "  .format(n_invalid, x_col)\n"
          ],
          "name": "stderr"
        }
      ]
    },
    {
      "cell_type": "code",
      "metadata": {
        "id": "rjBxSoNuRtiZ",
        "colab_type": "code",
        "colab": {}
      },
      "source": [
        "# Create a subclass of the keras model, with all the needed layers\n",
        "\n",
        "class MyModel(Model):\n",
        "  def __init__(self, num_labels):\n",
        "    super(MyModel, self).__init__()\n",
        "\n",
        "    self.conv0 = Conv2D(filters=56, kernel_size=(3, 3), activation='relu', input_shape=(128, 128, 3))\n",
        "    self.mp1 = MaxPooling2D(pool_size=(2, 2))\n",
        "    self.conv1 = Conv2D(128, (3, 3), activation='relu')\n",
        "    self.mp2 = MaxPooling2D(pool_size=(2, 2))\n",
        "    self.conv2 = Conv2D(128, (3, 3), activation='relu', padding='same')\n",
        "    self.conv3 = Conv2D(256, (3, 3), activation='relu')\n",
        "    self.mp3 = MaxPooling2D(pool_size=(2, 2))\n",
        "\n",
        "    self.flatten = Flatten()\n",
        "    self.den1 = Dense(2048, activation='relu')\n",
        "    self.drop = Dropout(0.5)\n",
        "    self.den2 = Dense(units=num_labels , activation = 'sigmoid')\n",
        "\n",
        "  def call(self, x, training=False):\n",
        "    x = self.conv0(x)\n",
        "    x = self.mp1(x)\n",
        "    x = self.conv1(x)\n",
        "    x = self.mp2(x)\n",
        "    x = self.conv2(x)\n",
        "    x = self.conv3(x)\n",
        "    x = self.mp3(x)\n",
        "\n",
        "    x = self.flatten(x)\n",
        "    x = self.den1(x)\n",
        "    if training:\n",
        "      x = self.drop(x)\n",
        "\n",
        "    return self.den2(x)\n",
        "\n",
        "# Create an instance of the model\n",
        "model = MyModel(len(labels))\n"
      ],
      "execution_count": 0,
      "outputs": []
    },
    {
      "cell_type": "code",
      "metadata": {
        "id": "FriAFbCoKsYB",
        "colab_type": "code",
        "outputId": "bb9a42cd-49bc-4e3c-887f-ef52b76fc67e",
        "colab": {
          "base_uri": "https://localhost:8080/",
          "height": 1000
        }
      },
      "source": [
        "\n",
        "model.compile(optimizer='adam',\n",
        "              loss=tf.keras.losses.CategoricalCrossentropy(from_logits=True),\n",
        "              metrics=[tf.keras.metrics.FalsePositives(), \"accuracy\"])\n",
        "\n",
        "\n",
        "STEP_SIZE_TRAIN=train_generator.n//train_generator.batch_size\n",
        "STEP_SIZE_VALID=valid_generator.n//valid_generator.batch_size\n",
        "STEP_SIZE_TEST=test_generator.n//test_generator.batch_size\n",
        "\n",
        "history = model.fit(train_generator,\n",
        "                    steps_per_epoch=STEP_SIZE_TRAIN,\n",
        "                    validation_data=valid_generator,\n",
        "                    validation_steps=STEP_SIZE_VALID,\n",
        "                    epochs=60)"
      ],
      "execution_count": 9,
      "outputs": [
        {
          "output_type": "stream",
          "text": [
            "Epoch 1/60\n",
            "19/19 [==============================] - 327s 17s/step - loss: 13.3909 - false_positives: 36378.0000 - accuracy: 0.0444 - val_loss: 14.2078 - val_false_positives: 3556.0000 - val_accuracy: 0.0469\n",
            "Epoch 2/60\n",
            "19/19 [==============================] - 12s 636ms/step - loss: 13.2593 - false_positives: 14042.0000 - accuracy: 0.0281 - val_loss: 14.0348 - val_false_positives: 2785.0000 - val_accuracy: 0.0391\n",
            "Epoch 3/60\n",
            "19/19 [==============================] - 12s 636ms/step - loss: 13.1735 - false_positives: 12926.0000 - accuracy: 0.0463 - val_loss: 14.3018 - val_false_positives: 2680.0000 - val_accuracy: 0.0391\n",
            "Epoch 4/60\n",
            "19/19 [==============================] - 12s 632ms/step - loss: 13.1429 - false_positives: 12570.0000 - accuracy: 0.0298 - val_loss: 13.0509 - val_false_positives: 2674.0000 - val_accuracy: 0.0938\n",
            "Epoch 5/60\n",
            "19/19 [==============================] - 12s 635ms/step - loss: 13.5489 - false_positives: 11662.0000 - accuracy: 0.0364 - val_loss: 13.2398 - val_false_positives: 2432.0000 - val_accuracy: 0.0547\n",
            "Epoch 6/60\n",
            "19/19 [==============================] - 12s 632ms/step - loss: 13.0169 - false_positives: 10958.0000 - accuracy: 0.0479 - val_loss: 14.0109 - val_false_positives: 2293.0000 - val_accuracy: 0.0625\n",
            "Epoch 7/60\n",
            "19/19 [==============================] - 12s 635ms/step - loss: 13.4987 - false_positives: 10543.0000 - accuracy: 0.0479 - val_loss: 13.9191 - val_false_positives: 2179.0000 - val_accuracy: 0.0625\n",
            "Epoch 8/60\n",
            "19/19 [==============================] - 12s 641ms/step - loss: 13.0494 - false_positives: 10253.0000 - accuracy: 0.0430 - val_loss: 14.2242 - val_false_positives: 2175.0000 - val_accuracy: 0.0391\n",
            "Epoch 9/60\n",
            "19/19 [==============================] - 12s 635ms/step - loss: 13.4211 - false_positives: 9781.0000 - accuracy: 0.0446 - val_loss: 14.0699 - val_false_positives: 2053.0000 - val_accuracy: 0.0391\n",
            "Epoch 10/60\n",
            "19/19 [==============================] - 12s 633ms/step - loss: 13.3353 - false_positives: 9626.0000 - accuracy: 0.0413 - val_loss: 13.9091 - val_false_positives: 1924.0000 - val_accuracy: 0.0547\n",
            "Epoch 11/60\n",
            "19/19 [==============================] - 12s 632ms/step - loss: 13.2246 - false_positives: 9131.0000 - accuracy: 0.0413 - val_loss: 14.1970 - val_false_positives: 1924.0000 - val_accuracy: 0.0469\n",
            "Epoch 12/60\n",
            "19/19 [==============================] - 12s 640ms/step - loss: 13.5512 - false_positives: 9124.0000 - accuracy: 0.0529 - val_loss: 13.8443 - val_false_positives: 1928.0000 - val_accuracy: 0.0547\n",
            "Epoch 13/60\n",
            "19/19 [==============================] - 12s 636ms/step - loss: 13.5597 - false_positives: 8651.0000 - accuracy: 0.0512 - val_loss: 13.6169 - val_false_positives: 1815.0000 - val_accuracy: 0.0547\n",
            "Epoch 14/60\n",
            "19/19 [==============================] - 12s 641ms/step - loss: 13.2508 - false_positives: 8501.0000 - accuracy: 0.0281 - val_loss: 13.8031 - val_false_positives: 1802.0000 - val_accuracy: 0.0156\n",
            "Epoch 15/60\n",
            "19/19 [==============================] - 12s 638ms/step - loss: 13.4787 - false_positives: 8560.0000 - accuracy: 0.0413 - val_loss: 13.4261 - val_false_positives: 1809.0000 - val_accuracy: 0.0391\n",
            "Epoch 16/60\n",
            "19/19 [==============================] - 12s 634ms/step - loss: 13.3969 - false_positives: 8523.0000 - accuracy: 0.0430 - val_loss: 13.6592 - val_false_positives: 1802.0000 - val_accuracy: 0.0391\n",
            "Epoch 17/60\n",
            "19/19 [==============================] - 12s 638ms/step - loss: 13.3200 - false_positives: 8495.0000 - accuracy: 0.0430 - val_loss: 13.6191 - val_false_positives: 1670.0000 - val_accuracy: 0.0547\n",
            "Epoch 18/60\n",
            "19/19 [==============================] - 12s 638ms/step - loss: 13.5632 - false_positives: 7957.0000 - accuracy: 0.0380 - val_loss: 13.5545 - val_false_positives: 1674.0000 - val_accuracy: 0.0469\n",
            "Epoch 19/60\n",
            "19/19 [==============================] - 12s 643ms/step - loss: 13.2695 - false_positives: 7933.0000 - accuracy: 0.0397 - val_loss: 14.4898 - val_false_positives: 1671.0000 - val_accuracy: 0.0547\n",
            "Epoch 20/60\n",
            "19/19 [==============================] - 12s 644ms/step - loss: 13.4794 - false_positives: 7906.0000 - accuracy: 0.0380 - val_loss: 14.2433 - val_false_positives: 1664.0000 - val_accuracy: 0.0547\n",
            "Epoch 21/60\n",
            "19/19 [==============================] - 12s 650ms/step - loss: 13.4045 - false_positives: 7864.0000 - accuracy: 0.0444 - val_loss: 14.1219 - val_false_positives: 1673.0000 - val_accuracy: 0.0469\n",
            "Epoch 22/60\n",
            "19/19 [==============================] - 12s 652ms/step - loss: 13.2087 - false_positives: 8008.0000 - accuracy: 0.0380 - val_loss: 13.3784 - val_false_positives: 1676.0000 - val_accuracy: 0.0391\n",
            "Epoch 23/60\n",
            "19/19 [==============================] - 12s 644ms/step - loss: 13.4262 - false_positives: 8454.0000 - accuracy: 0.0413 - val_loss: 14.1219 - val_false_positives: 1673.0000 - val_accuracy: 0.0391\n",
            "Epoch 24/60\n",
            "19/19 [==============================] - 13s 666ms/step - loss: 13.6754 - false_positives: 7961.0000 - accuracy: 0.0413 - val_loss: 14.6815 - val_false_positives: 1671.0000 - val_accuracy: 0.0391\n",
            "Epoch 25/60\n",
            "19/19 [==============================] - 12s 654ms/step - loss: 13.3887 - false_positives: 7969.0000 - accuracy: 0.0331 - val_loss: 13.4743 - val_false_positives: 1676.0000 - val_accuracy: 0.0391\n",
            "Epoch 26/60\n",
            "19/19 [==============================] - 12s 645ms/step - loss: 13.4470 - false_positives: 7951.0000 - accuracy: 0.0364 - val_loss: 13.8989 - val_false_positives: 1669.0000 - val_accuracy: 0.0469\n",
            "Epoch 27/60\n",
            "19/19 [==============================] - 12s 641ms/step - loss: 13.3519 - false_positives: 7824.0000 - accuracy: 0.0413 - val_loss: 14.1448 - val_false_positives: 1556.0000 - val_accuracy: 0.0391\n",
            "Epoch 28/60\n",
            "19/19 [==============================] - 12s 654ms/step - loss: 13.3779 - false_positives: 7378.0000 - accuracy: 0.0512 - val_loss: 13.9602 - val_false_positives: 1550.0000 - val_accuracy: 0.0469\n",
            "Epoch 29/60\n",
            "19/19 [==============================] - 12s 648ms/step - loss: 13.4734 - false_positives: 7369.0000 - accuracy: 0.0215 - val_loss: 13.5603 - val_false_positives: 1554.0000 - val_accuracy: 0.0391\n",
            "Epoch 30/60\n",
            "19/19 [==============================] - 12s 645ms/step - loss: 13.5593 - false_positives: 7324.0000 - accuracy: 0.0463 - val_loss: 13.0969 - val_false_positives: 1556.0000 - val_accuracy: 0.0391\n",
            "Epoch 31/60\n",
            "19/19 [==============================] - 12s 649ms/step - loss: 13.5709 - false_positives: 7335.0000 - accuracy: 0.0463 - val_loss: 13.9045 - val_false_positives: 1549.0000 - val_accuracy: 0.0547\n",
            "Epoch 32/60\n",
            "19/19 [==============================] - 12s 650ms/step - loss: 13.4845 - false_positives: 7351.0000 - accuracy: 0.0364 - val_loss: 14.1518 - val_false_positives: 1550.0000 - val_accuracy: 0.0547\n",
            "Epoch 33/60\n",
            "19/19 [==============================] - 12s 644ms/step - loss: 13.3358 - false_positives: 7348.0000 - accuracy: 0.0380 - val_loss: 14.4247 - val_false_positives: 1542.0000 - val_accuracy: 0.0391\n",
            "Epoch 34/60\n",
            "19/19 [==============================] - 12s 655ms/step - loss: 13.1784 - false_positives: 7360.0000 - accuracy: 0.0364 - val_loss: 14.3122 - val_false_positives: 1546.0000 - val_accuracy: 0.0469\n",
            "Epoch 35/60\n",
            "19/19 [==============================] - 12s 649ms/step - loss: 13.7229 - false_positives: 7333.0000 - accuracy: 0.0413 - val_loss: 13.8957 - val_false_positives: 1554.0000 - val_accuracy: 0.0391\n",
            "Epoch 36/60\n",
            "19/19 [==============================] - 12s 648ms/step - loss: 13.3099 - false_positives: 7344.0000 - accuracy: 0.0463 - val_loss: 14.0326 - val_false_positives: 1547.0000 - val_accuracy: 0.0312\n",
            "Epoch 37/60\n",
            "19/19 [==============================] - 12s 655ms/step - loss: 13.5571 - false_positives: 7308.0000 - accuracy: 0.0612 - val_loss: 14.1852 - val_false_positives: 1542.0000 - val_accuracy: 0.0391\n",
            "Epoch 38/60\n",
            "19/19 [==============================] - 12s 645ms/step - loss: 13.2525 - false_positives: 6955.0000 - accuracy: 0.1537 - val_loss: 13.7332 - val_false_positives: 1437.0000 - val_accuracy: 0.2266\n",
            "Epoch 39/60\n",
            "19/19 [==============================] - 12s 645ms/step - loss: 13.4611 - false_positives: 6764.0000 - accuracy: 0.2281 - val_loss: 13.9502 - val_false_positives: 1428.0000 - val_accuracy: 0.2422\n",
            "Epoch 40/60\n",
            "19/19 [==============================] - 12s 645ms/step - loss: 13.5808 - false_positives: 6771.0000 - accuracy: 0.2298 - val_loss: 13.9804 - val_false_positives: 1438.0000 - val_accuracy: 0.2188\n",
            "Epoch 41/60\n",
            "19/19 [==============================] - 12s 658ms/step - loss: 13.5188 - false_positives: 6816.0000 - accuracy: 0.2237 - val_loss: 14.3165 - val_false_positives: 1432.0000 - val_accuracy: 0.2344\n",
            "Epoch 42/60\n",
            "19/19 [==============================] - 12s 654ms/step - loss: 13.3125 - false_positives: 6782.0000 - accuracy: 0.2314 - val_loss: 13.7508 - val_false_positives: 1427.0000 - val_accuracy: 0.2344\n",
            "Epoch 43/60\n",
            "19/19 [==============================] - 12s 652ms/step - loss: 13.7903 - false_positives: 6776.0000 - accuracy: 0.2149 - val_loss: 14.5315 - val_false_positives: 1435.0000 - val_accuracy: 0.2109\n",
            "Epoch 44/60\n",
            "19/19 [==============================] - 12s 647ms/step - loss: 13.3546 - false_positives: 6782.0000 - accuracy: 0.2463 - val_loss: 14.4758 - val_false_positives: 1434.0000 - val_accuracy: 0.2422\n",
            "Epoch 45/60\n",
            "19/19 [==============================] - 12s 648ms/step - loss: 13.5204 - false_positives: 6760.0000 - accuracy: 0.2116 - val_loss: 14.0449 - val_false_positives: 1434.0000 - val_accuracy: 0.2188\n",
            "Epoch 46/60\n",
            "19/19 [==============================] - 12s 642ms/step - loss: 13.5079 - false_positives: 6785.0000 - accuracy: 0.2364 - val_loss: 13.4870 - val_false_positives: 1430.0000 - val_accuracy: 0.2188\n",
            "Epoch 47/60\n",
            "19/19 [==============================] - 12s 650ms/step - loss: 13.2776 - false_positives: 6754.0000 - accuracy: 0.2314 - val_loss: 14.1339 - val_false_positives: 1427.0000 - val_accuracy: 0.2266\n",
            "Epoch 48/60\n",
            "19/19 [==============================] - 13s 661ms/step - loss: 13.7988 - false_positives: 6770.0000 - accuracy: 0.2298 - val_loss: 14.1651 - val_false_positives: 1431.0000 - val_accuracy: 0.2500\n",
            "Epoch 49/60\n",
            "19/19 [==============================] - 13s 669ms/step - loss: 13.2625 - false_positives: 6799.0000 - accuracy: 0.1983 - val_loss: 14.2609 - val_false_positives: 1431.0000 - val_accuracy: 0.2422\n",
            "Epoch 50/60\n",
            "19/19 [==============================] - 13s 663ms/step - loss: 13.5070 - false_positives: 6769.0000 - accuracy: 0.2479 - val_loss: 13.8300 - val_false_positives: 1431.0000 - val_accuracy: 0.2109\n",
            "Epoch 51/60\n",
            "19/19 [==============================] - 12s 648ms/step - loss: 13.5787 - false_positives: 6796.0000 - accuracy: 0.2298 - val_loss: 14.1162 - val_false_positives: 1437.0000 - val_accuracy: 0.2266\n",
            "Epoch 52/60\n",
            "19/19 [==============================] - 12s 655ms/step - loss: 13.5231 - false_positives: 6741.0000 - accuracy: 0.2149 - val_loss: 14.1104 - val_false_positives: 1424.0000 - val_accuracy: 0.2266\n",
            "Epoch 53/60\n",
            "19/19 [==============================] - 12s 656ms/step - loss: 13.2799 - false_positives: 6793.0000 - accuracy: 0.2364 - val_loss: 13.8945 - val_false_positives: 1427.0000 - val_accuracy: 0.2266\n",
            "Epoch 54/60\n",
            "19/19 [==============================] - 13s 658ms/step - loss: 13.6599 - false_positives: 6772.0000 - accuracy: 0.2380 - val_loss: 14.1329 - val_false_positives: 1433.0000 - val_accuracy: 0.2344\n",
            "Epoch 55/60\n",
            "19/19 [==============================] - 12s 645ms/step - loss: 13.4096 - false_positives: 6788.0000 - accuracy: 0.2215 - val_loss: 13.6951 - val_false_positives: 1426.0000 - val_accuracy: 0.2188\n",
            "Epoch 56/60\n",
            "19/19 [==============================] - 12s 656ms/step - loss: 13.2806 - false_positives: 6774.0000 - accuracy: 0.2298 - val_loss: 14.2452 - val_false_positives: 1429.0000 - val_accuracy: 0.2188\n",
            "Epoch 57/60\n",
            "19/19 [==============================] - 12s 648ms/step - loss: 13.7278 - false_positives: 6765.0000 - accuracy: 0.2264 - val_loss: 14.0772 - val_false_positives: 1432.0000 - val_accuracy: 0.2344\n",
            "Epoch 58/60\n",
            "19/19 [==============================] - 12s 653ms/step - loss: 13.4020 - false_positives: 6763.0000 - accuracy: 0.2248 - val_loss: 14.1094 - val_false_positives: 1430.0000 - val_accuracy: 0.2188\n",
            "Epoch 59/60\n",
            "19/19 [==============================] - 12s 648ms/step - loss: 13.5015 - false_positives: 6773.0000 - accuracy: 0.2165 - val_loss: 14.3742 - val_false_positives: 1421.0000 - val_accuracy: 0.2422\n",
            "Epoch 60/60\n",
            "19/19 [==============================] - 12s 658ms/step - loss: 13.4810 - false_positives: 6777.0000 - accuracy: 0.2331 - val_loss: 13.6228 - val_false_positives: 1429.0000 - val_accuracy: 0.2266\n"
          ],
          "name": "stdout"
        }
      ]
    },
    {
      "cell_type": "code",
      "metadata": {
        "id": "xZ9Zfuxn8J5x",
        "colab_type": "code",
        "colab": {
          "base_uri": "https://localhost:8080/",
          "height": 34
        },
        "outputId": "9f13824c-216c-4b80-9b8f-7605714684ab"
      },
      "source": [
        "print(history.history.keys())"
      ],
      "execution_count": 21,
      "outputs": [
        {
          "output_type": "stream",
          "text": [
            "dict_keys(['loss', 'false_positives', 'accuracy', 'val_loss', 'val_false_positives', 'val_accuracy'])\n"
          ],
          "name": "stdout"
        }
      ]
    },
    {
      "cell_type": "code",
      "metadata": {
        "id": "5lpcURRpKsVG",
        "colab_type": "code",
        "colab": {
          "base_uri": "https://localhost:8080/",
          "height": 300
        },
        "outputId": "d25a5d45-8bf9-4298-c87d-769ca86d960c"
      },
      "source": [
        "import matplotlib.pyplot as plt\n",
        "\n",
        "plt.plot(history.history['accuracy'], label='accuracy')\n",
        "plt.plot(history.history['val_accuracy'], label = 'val_accuracy')\n",
        "plt.xlabel('Epoch')\n",
        "plt.ylabel('Accuracy')\n",
        "plt.ylim([0, 1])\n",
        "plt.legend(loc='upper right')\n"
      ],
      "execution_count": 27,
      "outputs": [
        {
          "output_type": "execute_result",
          "data": {
            "text/plain": [
              "<matplotlib.legend.Legend at 0x7f14105aecc0>"
            ]
          },
          "metadata": {
            "tags": []
          },
          "execution_count": 27
        },
        {
          "output_type": "display_data",
          "data": {
            "image/png": "[encoded data removed]",
            "text/plain": [
              "<Figure size 432x288 with 1 Axes>"
            ]
          },
          "metadata": {
            "tags": [],
            "needs_background": "light"
          }
        }
      ]
    },
    {
      "cell_type": "code",
      "metadata": {
        "id": "ddhyamAB9xw6",
        "colab_type": "code",
        "colab": {
          "base_uri": "https://localhost:8080/",
          "height": 296
        },
        "outputId": "2c2a612e-fff5-4cc1-8a97-afccc6ad9c67"
      },
      "source": [
        "# Graph false positives\n",
        "\n",
        "plt.plot(history.history['false_positives'], label='false_positives')\n",
        "plt.plot(history.history['val_false_positives'], label = 'val_false_positives')\n",
        "plt.xlabel('Epoch')\n",
        "plt.ylabel('false_positives')\n",
        "plt.legend(loc='upper right')"
      ],
      "execution_count": 26,
      "outputs": [
        {
          "output_type": "execute_result",
          "data": {
            "text/plain": [
              "<matplotlib.legend.Legend at 0x7f14105122b0>"
            ]
          },
          "metadata": {
            "tags": []
          },
          "execution_count": 26
        },
        {
          "output_type": "display_data",
          "data": {
            "image/png": "[encoded data removed]",
            "text/plain": [
              "<Figure size 432x288 with 1 Axes>"
            ]
          },
          "metadata": {
            "tags": [],
            "needs_background": "light"
          }
        }
      ]
    },
    {
      "cell_type": "code",
      "metadata": {
        "id": "nd_D5gfBj7Ea",
        "colab_type": "code",
        "colab": {
          "base_uri": "https://localhost:8080/",
          "height": 375
        },
        "outputId": "d6118d16-0015-4343-a00f-dde922999f69"
      },
      "source": [
        "test_loss, test_acc = model.evaluate(test_generator)\n",
        "\n",
        "print(\"Loss: {}\".format(test_loss))\n",
        "print(\"Acc: {}\".format(test_acc))"
      ],
      "execution_count": 33,
      "outputs": [
        {
          "output_type": "stream",
          "text": [
            "   1088/Unknown - 572s 526ms/step - loss: 0.0000e+00 - accuracy: 0.0000e+00"
          ],
          "name": "stdout"
        },
        {
          "output_type": "error",
          "ename": "KeyboardInterrupt",
          "evalue": "ignored",
          "traceback": [
            "\u001b[0;31m---------------------------------------------------------------------------\u001b[0m",
            "\u001b[0;31mKeyboardInterrupt\u001b[0m                         Traceback (most recent call last)",
            "\u001b[0;32m<ipython-input-33-f232d76a42c4>\u001b[0m in \u001b[0;36m<module>\u001b[0;34m()\u001b[0m\n\u001b[0;32m----> 1\u001b[0;31m \u001b[0mtest_loss\u001b[0m\u001b[0;34m,\u001b[0m \u001b[0mtest_acc\u001b[0m \u001b[0;34m=\u001b[0m \u001b[0mmodel\u001b[0m\u001b[0;34m.\u001b[0m\u001b[0mevaluate\u001b[0m\u001b[0;34m(\u001b[0m\u001b[0mtest_generator\u001b[0m\u001b[0;34m)\u001b[0m\u001b[0;34m\u001b[0m\u001b[0;34m\u001b[0m\u001b[0m\n\u001b[0m\u001b[1;32m      2\u001b[0m \u001b[0;34m\u001b[0m\u001b[0m\n\u001b[1;32m      3\u001b[0m \u001b[0mprint\u001b[0m\u001b[0;34m(\u001b[0m\u001b[0;34m\"Loss: {}\"\u001b[0m\u001b[0;34m.\u001b[0m\u001b[0mformat\u001b[0m\u001b[0;34m(\u001b[0m\u001b[0mtest_loss\u001b[0m\u001b[0;34m)\u001b[0m\u001b[0;34m)\u001b[0m\u001b[0;34m\u001b[0m\u001b[0;34m\u001b[0m\u001b[0m\n\u001b[1;32m      4\u001b[0m \u001b[0mprint\u001b[0m\u001b[0;34m(\u001b[0m\u001b[0;34m\"Acc: {}\"\u001b[0m\u001b[0;34m.\u001b[0m\u001b[0mformat\u001b[0m\u001b[0;34m(\u001b[0m\u001b[0mtest_acc\u001b[0m\u001b[0;34m)\u001b[0m\u001b[0;34m)\u001b[0m\u001b[0;34m\u001b[0m\u001b[0;34m\u001b[0m\u001b[0m\n",
            "\u001b[0;32m/usr/local/lib/python3.6/dist-packages/tensorflow/python/keras/engine/training.py\u001b[0m in \u001b[0;36m_method_wrapper\u001b[0;34m(self, *args, **kwargs)\u001b[0m\n\u001b[1;32m     64\u001b[0m   \u001b[0;32mdef\u001b[0m \u001b[0m_method_wrapper\u001b[0m\u001b[0;34m(\u001b[0m\u001b[0mself\u001b[0m\u001b[0;34m,\u001b[0m \u001b[0;34m*\u001b[0m\u001b[0margs\u001b[0m\u001b[0;34m,\u001b[0m \u001b[0;34m**\u001b[0m\u001b[0mkwargs\u001b[0m\u001b[0;34m)\u001b[0m\u001b[0;34m:\u001b[0m\u001b[0;34m\u001b[0m\u001b[0;34m\u001b[0m\u001b[0m\n\u001b[1;32m     65\u001b[0m     \u001b[0;32mif\u001b[0m \u001b[0;32mnot\u001b[0m \u001b[0mself\u001b[0m\u001b[0;34m.\u001b[0m\u001b[0m_in_multi_worker_mode\u001b[0m\u001b[0;34m(\u001b[0m\u001b[0;34m)\u001b[0m\u001b[0;34m:\u001b[0m  \u001b[0;31m# pylint: disable=protected-access\u001b[0m\u001b[0;34m\u001b[0m\u001b[0;34m\u001b[0m\u001b[0m\n\u001b[0;32m---> 66\u001b[0;31m       \u001b[0;32mreturn\u001b[0m \u001b[0mmethod\u001b[0m\u001b[0;34m(\u001b[0m\u001b[0mself\u001b[0m\u001b[0;34m,\u001b[0m \u001b[0;34m*\u001b[0m\u001b[0margs\u001b[0m\u001b[0;34m,\u001b[0m \u001b[0;34m**\u001b[0m\u001b[0mkwargs\u001b[0m\u001b[0;34m)\u001b[0m\u001b[0;34m\u001b[0m\u001b[0;34m\u001b[0m\u001b[0m\n\u001b[0m\u001b[1;32m     67\u001b[0m \u001b[0;34m\u001b[0m\u001b[0m\n\u001b[1;32m     68\u001b[0m     \u001b[0;31m# Running inside `run_distribute_coordinator` already.\u001b[0m\u001b[0;34m\u001b[0m\u001b[0;34m\u001b[0m\u001b[0;34m\u001b[0m\u001b[0m\n",
            "\u001b[0;32m/usr/local/lib/python3.6/dist-packages/tensorflow/python/keras/engine/training.py\u001b[0m in \u001b[0;36mevaluate\u001b[0;34m(self, x, y, batch_size, verbose, sample_weight, steps, callbacks, max_queue_size, workers, use_multiprocessing, return_dict)\u001b[0m\n\u001b[1;32m   1079\u001b[0m                 step_num=step):\n\u001b[1;32m   1080\u001b[0m               \u001b[0mcallbacks\u001b[0m\u001b[0;34m.\u001b[0m\u001b[0mon_test_batch_begin\u001b[0m\u001b[0;34m(\u001b[0m\u001b[0mstep\u001b[0m\u001b[0;34m)\u001b[0m\u001b[0;34m\u001b[0m\u001b[0;34m\u001b[0m\u001b[0m\n\u001b[0;32m-> 1081\u001b[0;31m               \u001b[0mtmp_logs\u001b[0m \u001b[0;34m=\u001b[0m \u001b[0mtest_function\u001b[0m\u001b[0;34m(\u001b[0m\u001b[0miterator\u001b[0m\u001b[0;34m)\u001b[0m\u001b[0;34m\u001b[0m\u001b[0;34m\u001b[0m\u001b[0m\n\u001b[0m\u001b[1;32m   1082\u001b[0m               \u001b[0;31m# Catch OutOfRangeError for Datasets of unknown size.\u001b[0m\u001b[0;34m\u001b[0m\u001b[0;34m\u001b[0m\u001b[0;34m\u001b[0m\u001b[0m\n\u001b[1;32m   1083\u001b[0m               \u001b[0;31m# This blocks until the batch has finished executing.\u001b[0m\u001b[0;34m\u001b[0m\u001b[0;34m\u001b[0m\u001b[0;34m\u001b[0m\u001b[0m\n",
            "\u001b[0;32m/usr/local/lib/python3.6/dist-packages/tensorflow/python/eager/def_function.py\u001b[0m in \u001b[0;36m__call__\u001b[0;34m(self, *args, **kwds)\u001b[0m\n\u001b[1;32m    578\u001b[0m         \u001b[0mxla_context\u001b[0m\u001b[0;34m.\u001b[0m\u001b[0mExit\u001b[0m\u001b[0;34m(\u001b[0m\u001b[0;34m)\u001b[0m\u001b[0;34m\u001b[0m\u001b[0;34m\u001b[0m\u001b[0m\n\u001b[1;32m    579\u001b[0m     \u001b[0;32melse\u001b[0m\u001b[0;34m:\u001b[0m\u001b[0;34m\u001b[0m\u001b[0;34m\u001b[0m\u001b[0m\n\u001b[0;32m--> 580\u001b[0;31m       \u001b[0mresult\u001b[0m \u001b[0;34m=\u001b[0m \u001b[0mself\u001b[0m\u001b[0;34m.\u001b[0m\u001b[0m_call\u001b[0m\u001b[0;34m(\u001b[0m\u001b[0;34m*\u001b[0m\u001b[0margs\u001b[0m\u001b[0;34m,\u001b[0m \u001b[0;34m**\u001b[0m\u001b[0mkwds\u001b[0m\u001b[0;34m)\u001b[0m\u001b[0;34m\u001b[0m\u001b[0;34m\u001b[0m\u001b[0m\n\u001b[0m\u001b[1;32m    581\u001b[0m \u001b[0;34m\u001b[0m\u001b[0m\n\u001b[1;32m    582\u001b[0m     \u001b[0;32mif\u001b[0m \u001b[0mtracing_count\u001b[0m \u001b[0;34m==\u001b[0m \u001b[0mself\u001b[0m\u001b[0;34m.\u001b[0m\u001b[0m_get_tracing_count\u001b[0m\u001b[0;34m(\u001b[0m\u001b[0;34m)\u001b[0m\u001b[0;34m:\u001b[0m\u001b[0;34m\u001b[0m\u001b[0;34m\u001b[0m\u001b[0m\n",
            "\u001b[0;32m/usr/local/lib/python3.6/dist-packages/tensorflow/python/eager/def_function.py\u001b[0m in \u001b[0;36m_call\u001b[0;34m(self, *args, **kwds)\u001b[0m\n\u001b[1;32m    616\u001b[0m       \u001b[0;31m# In this case we have not created variables on the first call. So we can\u001b[0m\u001b[0;34m\u001b[0m\u001b[0;34m\u001b[0m\u001b[0;34m\u001b[0m\u001b[0m\n\u001b[1;32m    617\u001b[0m       \u001b[0;31m# run the first trace but we should fail if variables are created.\u001b[0m\u001b[0;34m\u001b[0m\u001b[0;34m\u001b[0m\u001b[0;34m\u001b[0m\u001b[0m\n\u001b[0;32m--> 618\u001b[0;31m       \u001b[0mresults\u001b[0m \u001b[0;34m=\u001b[0m \u001b[0mself\u001b[0m\u001b[0;34m.\u001b[0m\u001b[0m_stateful_fn\u001b[0m\u001b[0;34m(\u001b[0m\u001b[0;34m*\u001b[0m\u001b[0margs\u001b[0m\u001b[0;34m,\u001b[0m \u001b[0;34m**\u001b[0m\u001b[0mkwds\u001b[0m\u001b[0;34m)\u001b[0m\u001b[0;34m\u001b[0m\u001b[0;34m\u001b[0m\u001b[0m\n\u001b[0m\u001b[1;32m    619\u001b[0m       \u001b[0;32mif\u001b[0m \u001b[0mself\u001b[0m\u001b[0;34m.\u001b[0m\u001b[0m_created_variables\u001b[0m\u001b[0;34m:\u001b[0m\u001b[0;34m\u001b[0m\u001b[0;34m\u001b[0m\u001b[0m\n\u001b[1;32m    620\u001b[0m         raise ValueError(\"Creating variables on a non-first call to a function\"\n",
            "\u001b[0;32m/usr/local/lib/python3.6/dist-packages/tensorflow/python/eager/function.py\u001b[0m in \u001b[0;36m__call__\u001b[0;34m(self, *args, **kwargs)\u001b[0m\n\u001b[1;32m   2418\u001b[0m     \u001b[0;32mwith\u001b[0m \u001b[0mself\u001b[0m\u001b[0;34m.\u001b[0m\u001b[0m_lock\u001b[0m\u001b[0;34m:\u001b[0m\u001b[0;34m\u001b[0m\u001b[0;34m\u001b[0m\u001b[0m\n\u001b[1;32m   2419\u001b[0m       \u001b[0mgraph_function\u001b[0m\u001b[0;34m,\u001b[0m \u001b[0margs\u001b[0m\u001b[0;34m,\u001b[0m \u001b[0mkwargs\u001b[0m \u001b[0;34m=\u001b[0m \u001b[0mself\u001b[0m\u001b[0;34m.\u001b[0m\u001b[0m_maybe_define_function\u001b[0m\u001b[0;34m(\u001b[0m\u001b[0margs\u001b[0m\u001b[0;34m,\u001b[0m \u001b[0mkwargs\u001b[0m\u001b[0;34m)\u001b[0m\u001b[0;34m\u001b[0m\u001b[0;34m\u001b[0m\u001b[0m\n\u001b[0;32m-> 2420\u001b[0;31m     \u001b[0;32mreturn\u001b[0m \u001b[0mgraph_function\u001b[0m\u001b[0;34m.\u001b[0m\u001b[0m_filtered_call\u001b[0m\u001b[0;34m(\u001b[0m\u001b[0margs\u001b[0m\u001b[0;34m,\u001b[0m \u001b[0mkwargs\u001b[0m\u001b[0;34m)\u001b[0m  \u001b[0;31m# pylint: disable=protected-access\u001b[0m\u001b[0;34m\u001b[0m\u001b[0;34m\u001b[0m\u001b[0m\n\u001b[0m\u001b[1;32m   2421\u001b[0m \u001b[0;34m\u001b[0m\u001b[0m\n\u001b[1;32m   2422\u001b[0m   \u001b[0;34m@\u001b[0m\u001b[0mproperty\u001b[0m\u001b[0;34m\u001b[0m\u001b[0;34m\u001b[0m\u001b[0m\n",
            "\u001b[0;32m/usr/local/lib/python3.6/dist-packages/tensorflow/python/eager/function.py\u001b[0m in \u001b[0;36m_filtered_call\u001b[0;34m(self, args, kwargs)\u001b[0m\n\u001b[1;32m   1663\u001b[0m          if isinstance(t, (ops.Tensor,\n\u001b[1;32m   1664\u001b[0m                            resource_variable_ops.BaseResourceVariable))),\n\u001b[0;32m-> 1665\u001b[0;31m         self.captured_inputs)\n\u001b[0m\u001b[1;32m   1666\u001b[0m \u001b[0;34m\u001b[0m\u001b[0m\n\u001b[1;32m   1667\u001b[0m   \u001b[0;32mdef\u001b[0m \u001b[0m_call_flat\u001b[0m\u001b[0;34m(\u001b[0m\u001b[0mself\u001b[0m\u001b[0;34m,\u001b[0m \u001b[0margs\u001b[0m\u001b[0;34m,\u001b[0m \u001b[0mcaptured_inputs\u001b[0m\u001b[0;34m,\u001b[0m \u001b[0mcancellation_manager\u001b[0m\u001b[0;34m=\u001b[0m\u001b[0;32mNone\u001b[0m\u001b[0;34m)\u001b[0m\u001b[0;34m:\u001b[0m\u001b[0;34m\u001b[0m\u001b[0;34m\u001b[0m\u001b[0m\n",
            "\u001b[0;32m/usr/local/lib/python3.6/dist-packages/tensorflow/python/eager/function.py\u001b[0m in \u001b[0;36m_call_flat\u001b[0;34m(self, args, captured_inputs, cancellation_manager)\u001b[0m\n\u001b[1;32m   1744\u001b[0m       \u001b[0;31m# No tape is watching; skip to running the function.\u001b[0m\u001b[0;34m\u001b[0m\u001b[0;34m\u001b[0m\u001b[0;34m\u001b[0m\u001b[0m\n\u001b[1;32m   1745\u001b[0m       return self._build_call_outputs(self._inference_function.call(\n\u001b[0;32m-> 1746\u001b[0;31m           ctx, args, cancellation_manager=cancellation_manager))\n\u001b[0m\u001b[1;32m   1747\u001b[0m     forward_backward = self._select_forward_and_backward_functions(\n\u001b[1;32m   1748\u001b[0m         \u001b[0margs\u001b[0m\u001b[0;34m,\u001b[0m\u001b[0;34m\u001b[0m\u001b[0;34m\u001b[0m\u001b[0m\n",
            "\u001b[0;32m/usr/local/lib/python3.6/dist-packages/tensorflow/python/eager/function.py\u001b[0m in \u001b[0;36mcall\u001b[0;34m(self, ctx, args, cancellation_manager)\u001b[0m\n\u001b[1;32m    596\u001b[0m               \u001b[0minputs\u001b[0m\u001b[0;34m=\u001b[0m\u001b[0margs\u001b[0m\u001b[0;34m,\u001b[0m\u001b[0;34m\u001b[0m\u001b[0;34m\u001b[0m\u001b[0m\n\u001b[1;32m    597\u001b[0m               \u001b[0mattrs\u001b[0m\u001b[0;34m=\u001b[0m\u001b[0mattrs\u001b[0m\u001b[0;34m,\u001b[0m\u001b[0;34m\u001b[0m\u001b[0;34m\u001b[0m\u001b[0m\n\u001b[0;32m--> 598\u001b[0;31m               ctx=ctx)\n\u001b[0m\u001b[1;32m    599\u001b[0m         \u001b[0;32melse\u001b[0m\u001b[0;34m:\u001b[0m\u001b[0;34m\u001b[0m\u001b[0;34m\u001b[0m\u001b[0m\n\u001b[1;32m    600\u001b[0m           outputs = execute.execute_with_cancellation(\n",
            "\u001b[0;32m/usr/local/lib/python3.6/dist-packages/tensorflow/python/eager/execute.py\u001b[0m in \u001b[0;36mquick_execute\u001b[0;34m(op_name, num_outputs, inputs, attrs, ctx, name)\u001b[0m\n\u001b[1;32m     58\u001b[0m     \u001b[0mctx\u001b[0m\u001b[0;34m.\u001b[0m\u001b[0mensure_initialized\u001b[0m\u001b[0;34m(\u001b[0m\u001b[0;34m)\u001b[0m\u001b[0;34m\u001b[0m\u001b[0;34m\u001b[0m\u001b[0m\n\u001b[1;32m     59\u001b[0m     tensors = pywrap_tfe.TFE_Py_Execute(ctx._handle, device_name, op_name,\n\u001b[0;32m---> 60\u001b[0;31m                                         inputs, attrs, num_outputs)\n\u001b[0m\u001b[1;32m     61\u001b[0m   \u001b[0;32mexcept\u001b[0m \u001b[0mcore\u001b[0m\u001b[0;34m.\u001b[0m\u001b[0m_NotOkStatusException\u001b[0m \u001b[0;32mas\u001b[0m \u001b[0me\u001b[0m\u001b[0;34m:\u001b[0m\u001b[0;34m\u001b[0m\u001b[0;34m\u001b[0m\u001b[0m\n\u001b[1;32m     62\u001b[0m     \u001b[0;32mif\u001b[0m \u001b[0mname\u001b[0m \u001b[0;32mis\u001b[0m \u001b[0;32mnot\u001b[0m \u001b[0;32mNone\u001b[0m\u001b[0;34m:\u001b[0m\u001b[0;34m\u001b[0m\u001b[0;34m\u001b[0m\u001b[0m\n",
            "\u001b[0;31mKeyboardInterrupt\u001b[0m: "
          ]
        }
      ]
    },
    {
      "cell_type": "markdown",
      "metadata": {
        "id": "Pm4zJuGEdkta",
        "colab_type": "text"
      },
      "source": [
        "# Previous Work\n",
        "\n",
        "\n",
        "Past attempts that didn't work. I don't want to delete it, in case I have to go back to it\n"
      ]
    },
    {
      "cell_type": "code",
      "metadata": {
        "id": "HZ5B8RieKsfH",
        "colab_type": "code",
        "outputId": "3bd7cdb4-1955-42e5-b72a-b4d19fe4154a",
        "colab": {
          "base_uri": "https://localhost:8080/",
          "height": 630
        }
      },
      "source": [
        "# NOT WORKING CURRENTLY, GOING TO TRY SOMETHING ELSE\n",
        "EPOCHS = 1\n",
        "\n",
        "for epoch in range(EPOCHS):\n",
        "  # Reset the metrics at the start of the next epoch\n",
        "  train_loss.reset_states()\n",
        "  train_accuracy.reset_states()\n",
        "  test_loss.reset_states()\n",
        "  test_accuracy.reset_states()\n",
        "\n",
        "\n",
        "  train_step(train_generator, labels)\n",
        "\n",
        "  test_step(test_generator, test_labels)\n",
        "\n",
        "  template = 'Epoch {}, Loss: {}, Accuracy: {}, Test Loss: {}, Test Accuracy: {}'\n",
        "  print(template.format(epoch + 1,\n",
        "                        train_loss.result(),\n",
        "                        train_accuracy.result() * 100,\n",
        "                        test_loss.result(),\n",
        "                        test_accuracy.result() * 100))"
      ],
      "execution_count": 13,
      "outputs": [
        {
          "output_type": "error",
          "ename": "AttributeError",
          "evalue": "ignored",
          "traceback": [
            "\u001b[0;31m---------------------------------------------------------------------------\u001b[0m",
            "\u001b[0;31mAttributeError\u001b[0m                            Traceback (most recent call last)",
            "\u001b[0;32m<ipython-input-13-b5dcf7df3686>\u001b[0m in \u001b[0;36m<module>\u001b[0;34m()\u001b[0m\n\u001b[1;32m      9\u001b[0m \u001b[0;34m\u001b[0m\u001b[0m\n\u001b[1;32m     10\u001b[0m \u001b[0;34m\u001b[0m\u001b[0m\n\u001b[0;32m---> 11\u001b[0;31m   \u001b[0mtrain_step\u001b[0m\u001b[0;34m(\u001b[0m\u001b[0mtrain_generator\u001b[0m\u001b[0;34m,\u001b[0m \u001b[0mlabels\u001b[0m\u001b[0;34m)\u001b[0m\u001b[0;34m\u001b[0m\u001b[0;34m\u001b[0m\u001b[0m\n\u001b[0m\u001b[1;32m     12\u001b[0m \u001b[0;34m\u001b[0m\u001b[0m\n\u001b[1;32m     13\u001b[0m \u001b[0;34m\u001b[0m\u001b[0m\n",
            "\u001b[0;32m/usr/local/lib/python3.6/dist-packages/tensorflow/python/eager/def_function.py\u001b[0m in \u001b[0;36m__call__\u001b[0;34m(self, *args, **kwds)\u001b[0m\n\u001b[1;32m    578\u001b[0m         \u001b[0mxla_context\u001b[0m\u001b[0;34m.\u001b[0m\u001b[0mExit\u001b[0m\u001b[0;34m(\u001b[0m\u001b[0;34m)\u001b[0m\u001b[0;34m\u001b[0m\u001b[0;34m\u001b[0m\u001b[0m\n\u001b[1;32m    579\u001b[0m     \u001b[0;32melse\u001b[0m\u001b[0;34m:\u001b[0m\u001b[0;34m\u001b[0m\u001b[0;34m\u001b[0m\u001b[0m\n\u001b[0;32m--> 580\u001b[0;31m       \u001b[0mresult\u001b[0m \u001b[0;34m=\u001b[0m \u001b[0mself\u001b[0m\u001b[0;34m.\u001b[0m\u001b[0m_call\u001b[0m\u001b[0;34m(\u001b[0m\u001b[0;34m*\u001b[0m\u001b[0margs\u001b[0m\u001b[0;34m,\u001b[0m \u001b[0;34m**\u001b[0m\u001b[0mkwds\u001b[0m\u001b[0;34m)\u001b[0m\u001b[0;34m\u001b[0m\u001b[0;34m\u001b[0m\u001b[0m\n\u001b[0m\u001b[1;32m    581\u001b[0m \u001b[0;34m\u001b[0m\u001b[0m\n\u001b[1;32m    582\u001b[0m     \u001b[0;32mif\u001b[0m \u001b[0mtracing_count\u001b[0m \u001b[0;34m==\u001b[0m \u001b[0mself\u001b[0m\u001b[0;34m.\u001b[0m\u001b[0m_get_tracing_count\u001b[0m\u001b[0;34m(\u001b[0m\u001b[0;34m)\u001b[0m\u001b[0;34m:\u001b[0m\u001b[0;34m\u001b[0m\u001b[0;34m\u001b[0m\u001b[0m\n",
            "\u001b[0;32m/usr/local/lib/python3.6/dist-packages/tensorflow/python/eager/def_function.py\u001b[0m in \u001b[0;36m_call\u001b[0;34m(self, *args, **kwds)\u001b[0m\n\u001b[1;32m    625\u001b[0m       \u001b[0;31m# This is the first call of __call__, so we have to initialize.\u001b[0m\u001b[0;34m\u001b[0m\u001b[0;34m\u001b[0m\u001b[0;34m\u001b[0m\u001b[0m\n\u001b[1;32m    626\u001b[0m       \u001b[0minitializers\u001b[0m \u001b[0;34m=\u001b[0m \u001b[0;34m[\u001b[0m\u001b[0;34m]\u001b[0m\u001b[0;34m\u001b[0m\u001b[0;34m\u001b[0m\u001b[0m\n\u001b[0;32m--> 627\u001b[0;31m       \u001b[0mself\u001b[0m\u001b[0;34m.\u001b[0m\u001b[0m_initialize\u001b[0m\u001b[0;34m(\u001b[0m\u001b[0margs\u001b[0m\u001b[0;34m,\u001b[0m \u001b[0mkwds\u001b[0m\u001b[0;34m,\u001b[0m \u001b[0madd_initializers_to\u001b[0m\u001b[0;34m=\u001b[0m\u001b[0minitializers\u001b[0m\u001b[0;34m)\u001b[0m\u001b[0;34m\u001b[0m\u001b[0;34m\u001b[0m\u001b[0m\n\u001b[0m\u001b[1;32m    628\u001b[0m     \u001b[0;32mfinally\u001b[0m\u001b[0;34m:\u001b[0m\u001b[0;34m\u001b[0m\u001b[0;34m\u001b[0m\u001b[0m\n\u001b[1;32m    629\u001b[0m       \u001b[0;31m# At this point we know that the initialization is complete (or less\u001b[0m\u001b[0;34m\u001b[0m\u001b[0;34m\u001b[0m\u001b[0;34m\u001b[0m\u001b[0m\n",
            "\u001b[0;32m/usr/local/lib/python3.6/dist-packages/tensorflow/python/eager/def_function.py\u001b[0m in \u001b[0;36m_initialize\u001b[0;34m(self, args, kwds, add_initializers_to)\u001b[0m\n\u001b[1;32m    504\u001b[0m     self._concrete_stateful_fn = (\n\u001b[1;32m    505\u001b[0m         self._stateful_fn._get_concrete_function_internal_garbage_collected(  # pylint: disable=protected-access\n\u001b[0;32m--> 506\u001b[0;31m             *args, **kwds))\n\u001b[0m\u001b[1;32m    507\u001b[0m \u001b[0;34m\u001b[0m\u001b[0m\n\u001b[1;32m    508\u001b[0m     \u001b[0;32mdef\u001b[0m \u001b[0minvalid_creator_scope\u001b[0m\u001b[0;34m(\u001b[0m\u001b[0;34m*\u001b[0m\u001b[0munused_args\u001b[0m\u001b[0;34m,\u001b[0m \u001b[0;34m**\u001b[0m\u001b[0munused_kwds\u001b[0m\u001b[0;34m)\u001b[0m\u001b[0;34m:\u001b[0m\u001b[0;34m\u001b[0m\u001b[0;34m\u001b[0m\u001b[0m\n",
            "\u001b[0;32m/usr/local/lib/python3.6/dist-packages/tensorflow/python/eager/function.py\u001b[0m in \u001b[0;36m_get_concrete_function_internal_garbage_collected\u001b[0;34m(self, *args, **kwargs)\u001b[0m\n\u001b[1;32m   2444\u001b[0m       \u001b[0margs\u001b[0m\u001b[0;34m,\u001b[0m \u001b[0mkwargs\u001b[0m \u001b[0;34m=\u001b[0m \u001b[0;32mNone\u001b[0m\u001b[0;34m,\u001b[0m \u001b[0;32mNone\u001b[0m\u001b[0;34m\u001b[0m\u001b[0;34m\u001b[0m\u001b[0m\n\u001b[1;32m   2445\u001b[0m     \u001b[0;32mwith\u001b[0m \u001b[0mself\u001b[0m\u001b[0;34m.\u001b[0m\u001b[0m_lock\u001b[0m\u001b[0;34m:\u001b[0m\u001b[0;34m\u001b[0m\u001b[0;34m\u001b[0m\u001b[0m\n\u001b[0;32m-> 2446\u001b[0;31m       \u001b[0mgraph_function\u001b[0m\u001b[0;34m,\u001b[0m \u001b[0m_\u001b[0m\u001b[0;34m,\u001b[0m \u001b[0m_\u001b[0m \u001b[0;34m=\u001b[0m \u001b[0mself\u001b[0m\u001b[0;34m.\u001b[0m\u001b[0m_maybe_define_function\u001b[0m\u001b[0;34m(\u001b[0m\u001b[0margs\u001b[0m\u001b[0;34m,\u001b[0m \u001b[0mkwargs\u001b[0m\u001b[0;34m)\u001b[0m\u001b[0;34m\u001b[0m\u001b[0;34m\u001b[0m\u001b[0m\n\u001b[0m\u001b[1;32m   2447\u001b[0m     \u001b[0;32mreturn\u001b[0m \u001b[0mgraph_function\u001b[0m\u001b[0;34m\u001b[0m\u001b[0;34m\u001b[0m\u001b[0m\n\u001b[1;32m   2448\u001b[0m \u001b[0;34m\u001b[0m\u001b[0m\n",
            "\u001b[0;32m/usr/local/lib/python3.6/dist-packages/tensorflow/python/eager/function.py\u001b[0m in \u001b[0;36m_maybe_define_function\u001b[0;34m(self, args, kwargs)\u001b[0m\n\u001b[1;32m   2775\u001b[0m \u001b[0;34m\u001b[0m\u001b[0m\n\u001b[1;32m   2776\u001b[0m       \u001b[0mself\u001b[0m\u001b[0;34m.\u001b[0m\u001b[0m_function_cache\u001b[0m\u001b[0;34m.\u001b[0m\u001b[0mmissed\u001b[0m\u001b[0;34m.\u001b[0m\u001b[0madd\u001b[0m\u001b[0;34m(\u001b[0m\u001b[0mcall_context_key\u001b[0m\u001b[0;34m)\u001b[0m\u001b[0;34m\u001b[0m\u001b[0;34m\u001b[0m\u001b[0m\n\u001b[0;32m-> 2777\u001b[0;31m       \u001b[0mgraph_function\u001b[0m \u001b[0;34m=\u001b[0m \u001b[0mself\u001b[0m\u001b[0;34m.\u001b[0m\u001b[0m_create_graph_function\u001b[0m\u001b[0;34m(\u001b[0m\u001b[0margs\u001b[0m\u001b[0;34m,\u001b[0m \u001b[0mkwargs\u001b[0m\u001b[0;34m)\u001b[0m\u001b[0;34m\u001b[0m\u001b[0;34m\u001b[0m\u001b[0m\n\u001b[0m\u001b[1;32m   2778\u001b[0m       \u001b[0mself\u001b[0m\u001b[0;34m.\u001b[0m\u001b[0m_function_cache\u001b[0m\u001b[0;34m.\u001b[0m\u001b[0mprimary\u001b[0m\u001b[0;34m[\u001b[0m\u001b[0mcache_key\u001b[0m\u001b[0;34m]\u001b[0m \u001b[0;34m=\u001b[0m \u001b[0mgraph_function\u001b[0m\u001b[0;34m\u001b[0m\u001b[0;34m\u001b[0m\u001b[0m\n\u001b[1;32m   2779\u001b[0m       \u001b[0;32mreturn\u001b[0m \u001b[0mgraph_function\u001b[0m\u001b[0;34m,\u001b[0m \u001b[0margs\u001b[0m\u001b[0;34m,\u001b[0m \u001b[0mkwargs\u001b[0m\u001b[0;34m\u001b[0m\u001b[0;34m\u001b[0m\u001b[0m\n",
            "\u001b[0;32m/usr/local/lib/python3.6/dist-packages/tensorflow/python/eager/function.py\u001b[0m in \u001b[0;36m_create_graph_function\u001b[0;34m(self, args, kwargs, override_flat_arg_shapes)\u001b[0m\n\u001b[1;32m   2665\u001b[0m             \u001b[0marg_names\u001b[0m\u001b[0;34m=\u001b[0m\u001b[0marg_names\u001b[0m\u001b[0;34m,\u001b[0m\u001b[0;34m\u001b[0m\u001b[0;34m\u001b[0m\u001b[0m\n\u001b[1;32m   2666\u001b[0m             \u001b[0moverride_flat_arg_shapes\u001b[0m\u001b[0;34m=\u001b[0m\u001b[0moverride_flat_arg_shapes\u001b[0m\u001b[0;34m,\u001b[0m\u001b[0;34m\u001b[0m\u001b[0;34m\u001b[0m\u001b[0m\n\u001b[0;32m-> 2667\u001b[0;31m             capture_by_value=self._capture_by_value),\n\u001b[0m\u001b[1;32m   2668\u001b[0m         \u001b[0mself\u001b[0m\u001b[0;34m.\u001b[0m\u001b[0m_function_attributes\u001b[0m\u001b[0;34m,\u001b[0m\u001b[0;34m\u001b[0m\u001b[0;34m\u001b[0m\u001b[0m\n\u001b[1;32m   2669\u001b[0m         \u001b[0;31m# Tell the ConcreteFunction to clean up its graph once it goes out of\u001b[0m\u001b[0;34m\u001b[0m\u001b[0;34m\u001b[0m\u001b[0;34m\u001b[0m\u001b[0m\n",
            "\u001b[0;32m/usr/local/lib/python3.6/dist-packages/tensorflow/python/framework/func_graph.py\u001b[0m in \u001b[0;36mfunc_graph_from_py_func\u001b[0;34m(name, python_func, args, kwargs, signature, func_graph, autograph, autograph_options, add_control_dependencies, arg_names, op_return_value, collections, capture_by_value, override_flat_arg_shapes)\u001b[0m\n\u001b[1;32m    979\u001b[0m         \u001b[0m_\u001b[0m\u001b[0;34m,\u001b[0m \u001b[0moriginal_func\u001b[0m \u001b[0;34m=\u001b[0m \u001b[0mtf_decorator\u001b[0m\u001b[0;34m.\u001b[0m\u001b[0munwrap\u001b[0m\u001b[0;34m(\u001b[0m\u001b[0mpython_func\u001b[0m\u001b[0;34m)\u001b[0m\u001b[0;34m\u001b[0m\u001b[0;34m\u001b[0m\u001b[0m\n\u001b[1;32m    980\u001b[0m \u001b[0;34m\u001b[0m\u001b[0m\n\u001b[0;32m--> 981\u001b[0;31m       \u001b[0mfunc_outputs\u001b[0m \u001b[0;34m=\u001b[0m \u001b[0mpython_func\u001b[0m\u001b[0;34m(\u001b[0m\u001b[0;34m*\u001b[0m\u001b[0mfunc_args\u001b[0m\u001b[0;34m,\u001b[0m \u001b[0;34m**\u001b[0m\u001b[0mfunc_kwargs\u001b[0m\u001b[0;34m)\u001b[0m\u001b[0;34m\u001b[0m\u001b[0;34m\u001b[0m\u001b[0m\n\u001b[0m\u001b[1;32m    982\u001b[0m \u001b[0;34m\u001b[0m\u001b[0m\n\u001b[1;32m    983\u001b[0m       \u001b[0;31m# invariant: `func_outputs` contains only Tensors, CompositeTensors,\u001b[0m\u001b[0;34m\u001b[0m\u001b[0;34m\u001b[0m\u001b[0;34m\u001b[0m\u001b[0m\n",
            "\u001b[0;32m/usr/local/lib/python3.6/dist-packages/tensorflow/python/eager/def_function.py\u001b[0m in \u001b[0;36mwrapped_fn\u001b[0;34m(*args, **kwds)\u001b[0m\n\u001b[1;32m    439\u001b[0m         \u001b[0;31m# __wrapped__ allows AutoGraph to swap in a converted function. We give\u001b[0m\u001b[0;34m\u001b[0m\u001b[0;34m\u001b[0m\u001b[0;34m\u001b[0m\u001b[0m\n\u001b[1;32m    440\u001b[0m         \u001b[0;31m# the function a weak reference to itself to avoid a reference cycle.\u001b[0m\u001b[0;34m\u001b[0m\u001b[0;34m\u001b[0m\u001b[0;34m\u001b[0m\u001b[0m\n\u001b[0;32m--> 441\u001b[0;31m         \u001b[0;32mreturn\u001b[0m \u001b[0mweak_wrapped_fn\u001b[0m\u001b[0;34m(\u001b[0m\u001b[0;34m)\u001b[0m\u001b[0;34m.\u001b[0m\u001b[0m__wrapped__\u001b[0m\u001b[0;34m(\u001b[0m\u001b[0;34m*\u001b[0m\u001b[0margs\u001b[0m\u001b[0;34m,\u001b[0m \u001b[0;34m**\u001b[0m\u001b[0mkwds\u001b[0m\u001b[0;34m)\u001b[0m\u001b[0;34m\u001b[0m\u001b[0;34m\u001b[0m\u001b[0m\n\u001b[0m\u001b[1;32m    442\u001b[0m     \u001b[0mweak_wrapped_fn\u001b[0m \u001b[0;34m=\u001b[0m \u001b[0mweakref\u001b[0m\u001b[0;34m.\u001b[0m\u001b[0mref\u001b[0m\u001b[0;34m(\u001b[0m\u001b[0mwrapped_fn\u001b[0m\u001b[0;34m)\u001b[0m\u001b[0;34m\u001b[0m\u001b[0;34m\u001b[0m\u001b[0m\n\u001b[1;32m    443\u001b[0m \u001b[0;34m\u001b[0m\u001b[0m\n",
            "\u001b[0;32m/usr/local/lib/python3.6/dist-packages/tensorflow/python/framework/func_graph.py\u001b[0m in \u001b[0;36mwrapper\u001b[0;34m(*args, **kwargs)\u001b[0m\n\u001b[1;32m    966\u001b[0m           \u001b[0;32mexcept\u001b[0m \u001b[0mException\u001b[0m \u001b[0;32mas\u001b[0m \u001b[0me\u001b[0m\u001b[0;34m:\u001b[0m  \u001b[0;31m# pylint:disable=broad-except\u001b[0m\u001b[0;34m\u001b[0m\u001b[0;34m\u001b[0m\u001b[0m\n\u001b[1;32m    967\u001b[0m             \u001b[0;32mif\u001b[0m \u001b[0mhasattr\u001b[0m\u001b[0;34m(\u001b[0m\u001b[0me\u001b[0m\u001b[0;34m,\u001b[0m \u001b[0;34m\"ag_error_metadata\"\u001b[0m\u001b[0;34m)\u001b[0m\u001b[0;34m:\u001b[0m\u001b[0;34m\u001b[0m\u001b[0;34m\u001b[0m\u001b[0m\n\u001b[0;32m--> 968\u001b[0;31m               \u001b[0;32mraise\u001b[0m \u001b[0me\u001b[0m\u001b[0;34m.\u001b[0m\u001b[0mag_error_metadata\u001b[0m\u001b[0;34m.\u001b[0m\u001b[0mto_exception\u001b[0m\u001b[0;34m(\u001b[0m\u001b[0me\u001b[0m\u001b[0;34m)\u001b[0m\u001b[0;34m\u001b[0m\u001b[0;34m\u001b[0m\u001b[0m\n\u001b[0m\u001b[1;32m    969\u001b[0m             \u001b[0;32melse\u001b[0m\u001b[0;34m:\u001b[0m\u001b[0;34m\u001b[0m\u001b[0;34m\u001b[0m\u001b[0m\n\u001b[1;32m    970\u001b[0m               \u001b[0;32mraise\u001b[0m\u001b[0;34m\u001b[0m\u001b[0;34m\u001b[0m\u001b[0m\n",
            "\u001b[0;31mAttributeError\u001b[0m: in user code:\n\n    <ipython-input-11-f96c27d913b0>:5 train_step  *\n        predictions = model(images, training=True)\n    /usr/local/lib/python3.6/dist-packages/tensorflow/python/keras/engine/base_layer.py:968 __call__  **\n        outputs = self.call(cast_inputs, *args, **kwargs)\n    <ipython-input-9-1cb06328c8aa>:20 call\n        x = self.conv0(x)\n    /usr/local/lib/python3.6/dist-packages/tensorflow/python/keras/engine/base_layer.py:964 __call__\n        self._maybe_build(inputs)\n    /usr/local/lib/python3.6/dist-packages/tensorflow/python/keras/engine/base_layer.py:2398 _maybe_build\n        self.input_spec, inputs, self.name)\n    /usr/local/lib/python3.6/dist-packages/tensorflow/python/keras/engine/input_spec.py:166 assert_input_compatibility\n        if x.shape.ndims is None:\n\n    AttributeError: 'DataFrameIterator' object has no attribute 'shape'\n"
          ]
        }
      ]
    },
    {
      "cell_type": "code",
      "metadata": {
        "id": "TiVJzljhKskU",
        "colab_type": "code",
        "colab": {}
      },
      "source": [
        "# Create optimizer and loss objects\n",
        "\n",
        "loss_object = tf.keras.losses.SparseCategoricalCrossentropy(from_logits=True)\n",
        "optimizer = tf.keras.optimizers.Adam()\n",
        "\n",
        "train_loss = tf.keras.metrics.Mean(name='train_loss')\n",
        "train_accuracy = tf.keras.metrics.SparseCategoricalAccuracy(name='train_accuracy')\n",
        "\n",
        "test_loss = tf.keras.metrics.Mean(name='test_loss')\n",
        "test_accuracy = tf.keras.metrics.SparseCategoricalAccuracy(name='test_accuracy')\n"
      ],
      "execution_count": 0,
      "outputs": []
    },
    {
      "cell_type": "code",
      "metadata": {
        "id": "rG3PYokfKshV",
        "colab_type": "code",
        "colab": {}
      },
      "source": [
        "# Create train function\n",
        "\n",
        "@tf.function\n",
        "def train_step(images, labels):\n",
        "  with tf.GradientTape() as tape:\n",
        "    predictions = model(images, training=True)\n",
        "    loss = loss_object(labels, predictions)\n",
        "  gradients = tape.gradient(loss, model.trainable_variables)\n",
        "  optimizer.apply_gradients(zip(gradients, model.trainable_variables))\n",
        "\n",
        "  train_loss(loss)\n",
        "  train_accuracy(labels, predictions)"
      ],
      "execution_count": 0,
      "outputs": []
    },
    {
      "cell_type": "code",
      "metadata": {
        "id": "El6bcgn4KsgU",
        "colab_type": "code",
        "colab": {}
      },
      "source": [
        "# Create test function\n",
        "\n",
        "@tf.function\n",
        "def test_step(images, labels):\n",
        "  # training=False is only needed if there are layers with different\n",
        "  # behavior during training versus inference (e.g. Dropout).\n",
        "  predictions = model(images, training=False)\n",
        "  t_loss = loss_object(labels, predictions)\n",
        "\n",
        "  test_loss(t_loss)\n",
        "  test_accuracy(labels, predictions)"
      ],
      "execution_count": 0,
      "outputs": []
    },
    {
      "cell_type": "code",
      "metadata": {
        "id": "ASDjJBtICOCI",
        "colab_type": "code",
        "colab": {}
      },
      "source": [
        ""
      ],
      "execution_count": 0,
      "outputs": []
    }
  ]
}