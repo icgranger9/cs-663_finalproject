{
  "nbformat": 4,
  "nbformat_minor": 0,
  "metadata": {
    "colab": {
      "name": "eric.ipynb",
      "provenance": [],
      "collapsed_sections": []
    },
    "kernelspec": {
      "name": "python3",
      "display_name": "Python 3"
    },
    "accelerator": "GPU"
  },
  "cells": [
    {
      "cell_type": "code",
      "metadata": {
        "id": "rQUjTImgJw1P",
        "colab_type": "code",
        "outputId": "910949d0-d3b7-4daf-af3b-aafe01d619eb",
        "colab": {
          "base_uri": "https://localhost:8080/",
          "height": 34
        }
      },
      "source": [
        "import pandas as pd\n",
        "import os\n",
        "from google.colab import drive\n",
        "from os import listdir\n",
        "from os.path import isfile, join\n",
        "drive.mount('/content/drive')"
      ],
      "execution_count": 0,
      "outputs": [
        {
          "output_type": "stream",
          "text": [
            "Drive already mounted at /content/drive; to attempt to forcibly remount, call drive.mount(\"/content/drive\", force_remount=True).\n"
          ],
          "name": "stdout"
        }
      ]
    },
    {
      "cell_type": "code",
      "metadata": {
        "id": "LNiSbJDMJ6s7",
        "colab_type": "code",
        "outputId": "87b7d1fe-95ff-4471-f8a7-d9a7d8a63294",
        "colab": {
          "base_uri": "https://localhost:8080/",
          "height": 255
        }
      },
      "source": [
        "dir = '/content/drive/My Drive/Colab Notebooks/'\n",
        "image_dir = dir + 'stage_1_test_images'\n",
        "\n",
        "data = pd.read_csv(dir + 'tuning_labels.csv', header=None)\n",
        "\n",
        "data[0] = data.iloc[:,0]+'.jpg'\n",
        "data[1] = pd.Series(map(lambda x: x.split(), data.iloc[:,1]))\n",
        "print(data)"
      ],
      "execution_count": 0,
      "outputs": [
        {
          "output_type": "stream",
          "text": [
            "                                0                                            1\n",
            "0    2b2f44594449326f4e52553d.jpg                       [/m/06ts_6, /m/01g317]\n",
            "1    2b333057383432514454593d.jpg  [/m/01g317, /m/06ts_6, /m/01jpn4, /m/0dnkv]\n",
            "2    2b38364476612f6c4558383d.jpg                        [/m/01g317, /m/05zp8]\n",
            "3    2b4270756237642b7456453d.jpg     [/m/0jjw, /m/015r61, /m/02csf, /m/05qdh]\n",
            "4    2b4534307571444f412b4d3d.jpg                                   [/m/099fz]\n",
            "..                            ...                                          ...\n",
            "995  7a652f354f56304578364d3d.jpg              [/m/05s2s, /m/083vt, /m/03ljvf]\n",
            "996  7a696a5a36356261572b6f3d.jpg                        [/m/0jyfg, /m/017ftj]\n",
            "997  7a704375527150436248733d.jpg                                   [/m/07j7r]\n",
            "998  7a752b505835372b496e633d.jpg                       [/m/012qyb, /m/01g317]\n",
            "999  7a767a496f6175625649633d.jpg                [/m/0jjw, /m/02csf, /m/05qdh]\n",
            "\n",
            "[1000 rows x 2 columns]\n"
          ],
          "name": "stdout"
        }
      ]
    },
    {
      "cell_type": "code",
      "metadata": {
        "id": "crimM8jIxL4S",
        "colab_type": "code",
        "outputId": "d5c07de8-ed7f-41fc-a855-d00c0b2cfc83",
        "colab": {
          "base_uri": "https://localhost:8080/",
          "height": 309
        }
      },
      "source": [
        "from collections import defaultdict\n",
        "\n",
        "labels = []\n",
        "for i in data.iloc[:, 1]:\n",
        "    labels.extend(i)\n",
        "\n",
        "label_data = pd.DataFrame(labels)\n",
        "\n",
        "#label_dict = defaultdict(int)\n",
        "for l in labels:\n",
        "    label_dict[l] += 1\n",
        "\n",
        "labels = list(set(labels))\n",
        "print(labels)\n",
        "print(len(labels))\n",
        "print(label_data)"
      ],
      "execution_count": 0,
      "outputs": [
        {
          "output_type": "stream",
          "text": [
            "['/m/0jbk', '/m/06ts_6', '/m/05229', '/m/05zdp', '/m/03ty65', '/m/049h0m', '/m/01yrx', '/m/0cz_0', '/m/0j_s4', '/m/09bgkl', '/m/0180xr', '/m/0fmnf5', '/m/079cl', '/m/013s93', '/m/0dlk0vw', '/m/0sx_x', '/m/01nz0z', '/m/04fyb1', '/m/0mcqy', '/m/0bt_c3', '/m/0fg019', '/m/0pvlz', '/m/0hr1s_w', '/m/0k5j', '/m/04v6l4', '/m/0dqb5', '/m/09x3lm', '/m/03nfmq', '/m/0blz9', '/m/044l90', '/m/03pty', '/m/05hg54', '/m/0crtnw', '/m/0bmz2', '/m/02_vjy', '/m/0jyfg', '/m/015c4z', '/m/026t6', '/m/0gjkl', '/m/083mg', '/m/025sfw', '/m/03z1rt', '/m/0d4v4', '/m/04h8sr', '/m/0335j', '/m/02rcwpb', '/m/0cvnqh', '/m/04c41_', '/m/02c3nd', '/m/0692dn', '/m/015z8s', '/m/020fb2', '/m/03p2h9', '/m/01fklc', '/m/044_87', '/m/063w2', '/m/02hnl', '/m/04h4w', '/m/0583c6', '/m/02k_k3t', '/m/0kmg4', '/m/02054x', '/m/0zvk5', '/m/0_ch6', '/m/0b_rs', '/m/0hhdb', '/m/01n32', '/m/01vk9q', '/m/09j5n', '/m/01f43', '/m/025dyy', '/m/021s_r', '/m/06d_3', '/m/06m11', '/m/014v7p', '/m/04rd7', '/m/01c7cq', '/m/018dz0', '/m/06fvc', '/m/09p3jz', '/m/0195fx', '/m/09ct_', '/m/018vs', '/m/01mzpv', '/m/01lsmm', '/m/03q5c7', '/m/015x4r', '/m/03hh2k', '/m/02dx0', '/m/09_rtk', '/m/09t49', '/m/01xsb3', '/m/0g6b5', '/m/037rzs', '/m/0swpk6b', '/m/02mgm6', '/m/0cmx8', '/m/0ck43n', '/m/02n7rn', '/m/07y04d', '/m/06cd7', '/m/037tzr', '/m/0n5v01m', '/m/0pg52', '/m/021sj1', '/m/05z87', '/m/0h1bv8c', '/m/06npx', '/m/04_xn', '/m/0m0gc', '/m/03txxp', '/m/0199g', '/m/07vwy6', '/m/07yv9', '/m/03jn61', '/m/033rq4', '/m/0369ss', '/m/05b97g', '/m/07jb1c', '/m/0118n_9r', '/m/012c9l', '/m/01l0mw', '/m/07glzq', '/m/018ktp', '/m/01lwf0', '/m/047rwq3', '/m/0jtt9', '/m/09cjl', '/m/01gd91', '/m/0xm0m9r', '/m/018rqw', '/m/03w9fb9', '/m/03v3yw', '/m/09j1x', '/m/0gl2ny2', '/m/0h2r6', '/m/04k84', '/m/02jwqh', '/m/0176mf', '/m/099fz', '/m/02r6fj', '/m/01w5q5', '/m/0ch_cf', '/m/0jjw', '/m/0l7_8', '/m/01y9k5', '/m/01xq0k1', '/m/034wh', '/m/057gn', '/m/017ftj', '/m/08t9c_', '/m/0mfnf', '/m/03hs6w', '/m/0dvvc', '/m/01d30f', '/m/04scj', '/m/09j9h', '/m/02_41', '/m/0cb0xm', '/m/03fp41', '/m/01ft5b', '/m/0bx_y3w', '/m/096mb', '/m/0342h', '/m/01c648', '/m/06hyd', '/m/0k4j', '/m/03hrb5', '/m/068zj', '/m/02prwx', '/m/04hyxm', '/m/0qjjc', '/m/04_sv', '/m/0dx1j', '/m/02500f', '/m/025sf8x', '/m/01w53b', '/m/02crq1', '/m/01xxtm', '/m/022pgh', '/m/04bcr3', '/m/02jxn5', '/m/0166ls', '/m/0dnkv', '/m/081hv', '/m/04tdh', '/m/02522', '/m/0mcn4', '/m/0191_7', '/m/02w3_2', '/m/01dl3j', '/m/020vl', '/m/01f4td', '/m/083vt', '/m/07k9y2b', '/m/0gqbt', '/m/03zdh1', '/m/0hl6y', '/m/049_3v', '/m/057_14', '/m/017r8p', '/m/03bm6', '/m/02vzx9', '/m/0215_s', '/m/03hr1p', '/m/06y_bg', '/m/05zdsq', '/m/020m7t', '/m/0g4fr', '/m/0djtd', '/m/012ndj', '/m/0fm3zh', '/m/05y4t', '/m/04szw', '/m/0lyyx', '/m/09rgp', '/m/01s56h', '/m/01www', '/m/0971v', '/m/01v327', '/m/046glt', '/m/026bk', '/m/037vsg', '/m/083jv', '/m/03vt0', '/m/01bjv', '/m/0263lr1', '/m/01j0mk', '/m/02yjc', '/m/03qtwd', '/m/01dwwc', '/m/042v_gx', '/m/0bqzm_', '/m/07s6nbt', '/m/01d74z', '/m/07txbq', '/m/0p833', '/m/099md', '/m/09qqq', '/m/01mwkf', '/m/01x_v', '/m/07l5g', '/m/01vmzn', '/m/0269r2s', '/m/0gl3_vx', '/m/09jwl', '/m/01zfyk', '/m/0k8hs', '/m/05v1q7', '/m/01g317', '/m/030czg', '/m/09kjlm', '/m/0hlzc', '/m/0fszt', '/m/01nblt', '/m/0329yh', '/m/03gfsp', '/m/03r1s9', '/m/05sxvp', '/m/0_mjp', '/m/039jq', '/m/0dp7vs', '/m/051rmm', '/m/01515d', '/m/0f5zw', '/m/0539n0', '/m/0fly7', '/m/0crjs', '/m/04f76q7', '/m/06rrc', '/m/05t0y8q', '/m/0g8p9', '/m/021w6f', '/m/09b5t', '/m/0j_5b', '/m/0gm3m', '/m/08854', '/m/01c8br', '/m/018w8', '/m/0k1tl', '/m/0qf0c', '/m/01lynh', '/m/0pd7', '/m/0brn2d', '/m/013_1c', '/m/018xm', '/m/038t8_', '/m/0215n', '/m/04dr76w', '/m/02qd_7', '/m/02v7zy', '/m/08q1xp', '/m/016br2', '/m/01sgl', '/m/03vcw7', '/m/0dnhy', '/m/012qyb', '/m/01jpn4', '/m/03rnh', '/m/045jsc', '/m/0vlys', '/m/02cwm', '/m/025s8bs', '/m/025dq0', '/m/038hg', '/m/0f25w9', '/m/0c2wf', '/m/0hjzp', '/m/06gfj', '/m/03mr6', '/m/034z7h', '/m/01m2v', '/m/01l7t2', '/m/0dkw5', '/m/0l14j_', '/m/02yhp1', '/m/015r61', '/m/02vyr27', '/m/0g4q3r', '/m/03c79', '/m/06qqb', '/m/0jt2t3g', '/m/083p6f', '/m/05fb3q6', '/m/02sgy', '/m/06wqb', '/m/0g9vs81', '/m/03bt1gh', '/m/03q5fj', '/m/01q7l', '/m/02jl78', '/m/07jdr', '/m/0py27', '/m/0lqk', '/m/02fbcn', '/m/035y33', '/m/026z81p', '/m/018j2', '/m/09w9qp', '/m/034v6m', '/m/05wrt', '/m/02w11w8', '/m/015y8h', '/m/026y56', '/m/01cbzq', '/m/05f9npt', '/m/016vv0', '/m/07z2l', '/m/025s3q0', '/m/0271t', '/m/0j6m2', '/m/09lbv', '/m/09qck', '/m/03m9d0z', '/m/0464z4', '/m/05wy2', '/m/0204fg', '/m/09hlfz', '/m/0cpk7', '/m/06wtgq', '/m/05kq4', '/m/06tn4', '/m/03jm5', '/m/030zsj', '/m/0g54v5d', '/m/057cc', '/m/02jspn', '/m/039jbq', '/m/014jg3', '/m/0b9k6q', '/m/027_ny3', '/m/09j2d', '/m/0hnnb', '/m/01lqfm', '/m/04c9vm', '/m/07bgp', '/m/05ws7', '/m/05qdh', '/m/01llwg', '/m/050gv4', '/m/02wbm', '/m/0641k', '/m/0838f', '/m/023kp2', '/m/0bl0l', '/m/0kdzn', '/m/03ljvf', '/m/01jp76', '/m/01h6rj', '/m/06rvn', '/m/01t2ln', '/m/016rh7', '/m/02dlh2', '/m/0gl3jh5', '/m/0c9ph5', '/m/047lggt', '/m/0289j0', '/m/03xnm0', '/m/082bv', '/m/0j2hg', '/m/07pb77', '/m/04t7l', '/m/04rlf', '/m/0pgl9', '/m/0kpbc', '/m/0h5y1j0', '/m/01z1kdw', '/m/01vxzc', '/m/07_gml', '/m/0dz0lt', '/m/07bsy', '/m/01hcps', '/m/0cdn1', '/m/03bbps', '/m/0g4cd0', '/m/09g5pq', '/m/05s2s', '/m/0cxn2', '/m/0f4s2w', '/m/07s11x', '/m/019sc', '/m/0153bq', '/m/025sk5n', '/m/02y_51m', '/m/015qff', '/m/01n5jq', '/m/04shl0', '/m/09sdbh', '/m/05h0n', '/m/0dv5r', '/m/018tkd', '/m/0403lcy', '/m/0643t', '/m/0m9cj', '/m/01g5v', '/m/0hpnr', '/m/02csf', '/m/04qgp', '/m/0btp2', '/m/06ntj', '/m/01jm2n', '/m/03vd46', '/m/0ckljz', '/m/09q2t', '/m/01p58g', '/m/0dmq2', '/m/02qjv', '/m/05t4q', '/m/03lnq3', '/m/07j7r', '/m/049dpf', '/m/01x3z', '/m/01knjb', '/m/0cfzkp', '/m/01cmcs', '/m/03ldnb', '/m/09gg3', '/m/04lzmz', '/m/0cgh4', '/m/0frq6', '/m/02t2zd', '/m/02hlnc', '/m/01r546', '/m/01wb7', '/m/06z37_', '/m/0cyhj_', '/m/09759', '/m/0fpjlj9', '/m/02vx4', '/m/0138tl', '/m/02x984l', '/m/0cvq3', '/m/01d2_z', '/m/0dzct', '/m/0cd3bj', '/m/01n8m6', '/m/011yvr', '/m/0ytgt', '/m/016x44', '/m/05r5c', '/m/05zp8', '/m/039v1', '/m/026wh99', '/m/026w19n']\n",
            "484\n",
            "              0\n",
            "0     /m/06ts_6\n",
            "1     /m/01g317\n",
            "2     /m/01g317\n",
            "3     /m/06ts_6\n",
            "4     /m/01jpn4\n",
            "...         ...\n",
            "2381  /m/012qyb\n",
            "2382  /m/01g317\n",
            "2383    /m/0jjw\n",
            "2384   /m/02csf\n",
            "2385   /m/05qdh\n",
            "\n",
            "[2386 rows x 1 columns]\n"
          ],
          "name": "stdout"
        }
      ]
    },
    {
      "cell_type": "code",
      "metadata": {
        "id": "S1FpkQ9668HT",
        "colab_type": "code",
        "outputId": "788a6609-6dab-4010-9447-2148fdf81eb9",
        "colab": {
          "base_uri": "https://localhost:8080/",
          "height": 484
        }
      },
      "source": [
        "import seaborn as sns\n",
        "\n",
        "print(label_data[0].value_counts()[:10])\n",
        "print(sum(label_data[0].value_counts() == 1))\n",
        "\n",
        "a = sns.countplot(x=0, data=label_data, order = label_data[0].value_counts().index)"
      ],
      "execution_count": 0,
      "outputs": [
        {
          "output_type": "stream",
          "text": [
            "/m/01g317    325\n",
            "/m/05s2s     122\n",
            "/m/07j7r     109\n",
            "/m/01c8br     63\n",
            "/m/083vt      57\n",
            "/m/0199g      52\n",
            "/m/02csf      48\n",
            "/m/05wrt      47\n",
            "/m/0jjw       45\n",
            "/m/0jyfg      42\n",
            "Name: 0, dtype: int64\n",
            "265\n"
          ],
          "name": "stdout"
        },
        {
          "output_type": "display_data",
          "data": {
            "image/png": "[encoded data removed]",
            "text/plain": [
              "<Figure size 432x288 with 1 Axes>"
            ]
          },
          "metadata": {
            "tags": [],
            "needs_background": "light"
          }
        }
      ]
    },
    {
      "cell_type": "code",
      "metadata": {
        "id": "hMQ0bSNEc1-O",
        "colab_type": "code",
        "outputId": "03c2b30b-132e-4d2c-c57a-160e63dce7a8",
        "colab": {
          "base_uri": "https://localhost:8080/",
          "height": 272
        }
      },
      "source": [
        "from sklearn.model_selection import train_test_split\n",
        "\n",
        "train, test = train_test_split(data, test_size=0.2)\n",
        "train = train.reset_index(drop=True)\n",
        "test = test.reset_index(drop=True)\n",
        "train_input = train.iloc[:,0]\n",
        "test_input = test.iloc[:,0]\n",
        "train_labels = train.iloc[:,1:]\n",
        "test_labels = test.iloc[:,1:]\n",
        "\n",
        "print(train_labels)\n",
        "\n",
        "labels = []\n",
        "for i, r in train_labels.iterrows():\n",
        "  labels.extend(r[1])\n",
        "labels = list(set(labels))\n",
        "print(len(labels))\n",
        "\n",
        "#train, valid = train_test_split(train, test_size=0.1)"
      ],
      "execution_count": 0,
      "outputs": [
        {
          "output_type": "stream",
          "text": [
            "                                                 1\n",
            "0                   [/m/05s2s, /m/0mcn4, /m/083vt]\n",
            "1                 [/m/02csf, /m/01g317, /m/07glzq]\n",
            "2                   [/m/05zdp, /m/07bsy, /m/07j7r]\n",
            "3                  [/m/0jjw, /m/01c8br, /m/07vwy6]\n",
            "4                            [/m/07glzq, /m/02csf]\n",
            "..                                             ...\n",
            "795                                     [/m/09j2d]\n",
            "796                          [/m/0191_7, /m/0hhdb]\n",
            "797                 [/m/083vt, /m/07j7r, /m/05s2s]\n",
            "798  [/m/0263lr1, /m/0brn2d, /m/0ckljz, /m/02n7rn]\n",
            "799                                     [/m/05qdh]\n",
            "\n",
            "[800 rows x 1 columns]\n",
            "424\n"
          ],
          "name": "stdout"
        }
      ]
    },
    {
      "cell_type": "code",
      "metadata": {
        "id": "xYBk3VOS65wV",
        "colab_type": "code",
        "colab": {}
      },
      "source": [
        ""
      ],
      "execution_count": 0,
      "outputs": []
    },
    {
      "cell_type": "code",
      "metadata": {
        "id": "7HmYFOkMOOH5",
        "colab_type": "code",
        "outputId": "1c400a83-ef72-427e-a628-e2ddab5ecf54",
        "colab": {
          "base_uri": "https://localhost:8080/",
          "height": 54
        }
      },
      "source": [
        "print(labels)"
      ],
      "execution_count": 0,
      "outputs": [
        {
          "output_type": "stream",
          "text": [
            "['/m/0jbk', '/m/06ts_6', '/m/05zdp', '/m/03ty65', '/m/049h0m', '/m/01yrx', '/m/0cz_0', '/m/0j_s4', '/m/09bgkl', '/m/0180xr', '/m/0fmnf5', '/m/079cl', '/m/013s93', '/m/0dlk0vw', '/m/0sx_x', '/m/01nz0z', '/m/04fyb1', '/m/0mcqy', '/m/0fg019', '/m/0pvlz', '/m/0hr1s_w', '/m/0k5j', '/m/0dqb5', '/m/09x3lm', '/m/03nfmq', '/m/0blz9', '/m/044l90', '/m/03pty', '/m/05hg54', '/m/0crtnw', '/m/02_vjy', '/m/0jyfg', '/m/015c4z', '/m/026t6', '/m/083mg', '/m/025sfw', '/m/03z1rt', '/m/0d4v4', '/m/0335j', '/m/02rcwpb', '/m/0cvnqh', '/m/04c41_', '/m/02c3nd', '/m/0692dn', '/m/015z8s', '/m/020fb2', '/m/03p2h9', '/m/01fklc', '/m/044_87', '/m/02hnl', '/m/04h4w', '/m/0583c6', '/m/02k_k3t', '/m/02054x', '/m/0zvk5', '/m/0_ch6', '/m/0b_rs', '/m/0hhdb', '/m/01n32', '/m/01vk9q', '/m/09j5n', '/m/01f43', '/m/06d_3', '/m/021s_r', '/m/025dyy', '/m/06m11', '/m/014v7p', '/m/04rd7', '/m/01c7cq', '/m/018dz0', '/m/06fvc', '/m/09p3jz', '/m/0195fx', '/m/09ct_', '/m/018vs', '/m/01mzpv', '/m/015x4r', '/m/03q5c7', '/m/03hh2k', '/m/02dx0', '/m/09t49', '/m/01xsb3', '/m/0g6b5', '/m/037rzs', '/m/0swpk6b', '/m/02mgm6', '/m/02n7rn', '/m/07y04d', '/m/06cd7', '/m/037tzr', '/m/0n5v01m', '/m/0pg52', '/m/05z87', '/m/06npx', '/m/04_xn', '/m/03txxp', '/m/0199g', '/m/07vwy6', '/m/07yv9', '/m/03jn61', '/m/033rq4', '/m/05b97g', '/m/0369ss', '/m/07jb1c', '/m/012c9l', '/m/07glzq', '/m/018ktp', '/m/01lwf0', '/m/047rwq3', '/m/0jtt9', '/m/09cjl', '/m/01gd91', '/m/018rqw', '/m/03v3yw', '/m/09j1x', '/m/0gl2ny2', '/m/04k84', '/m/0h2r6', '/m/02jwqh', '/m/0176mf', '/m/099fz', '/m/01w5q5', '/m/0ch_cf', '/m/0jjw', '/m/0l7_8', '/m/01y9k5', '/m/01xq0k1', '/m/034wh', '/m/057gn', '/m/017ftj', '/m/08t9c_', '/m/0mfnf', '/m/03hs6w', '/m/0dvvc', '/m/01d30f', '/m/02_41', '/m/04scj', '/m/0cb0xm', '/m/03fp41', '/m/01ft5b', '/m/0bx_y3w', '/m/096mb', '/m/0342h', '/m/06hyd', '/m/0k4j', '/m/03hrb5', '/m/068zj', '/m/02prwx', '/m/04hyxm', '/m/0qjjc', '/m/04_sv', '/m/0dx1j', '/m/02500f', '/m/01w53b', '/m/02crq1', '/m/01xxtm', '/m/022pgh', '/m/04bcr3', '/m/02jxn5', '/m/0166ls', '/m/0dnkv', '/m/081hv', '/m/04tdh', '/m/02522', '/m/0mcn4', '/m/0191_7', '/m/02w3_2', '/m/01f4td', '/m/083vt', '/m/07k9y2b', '/m/0gqbt', '/m/03zdh1', '/m/0hl6y', '/m/049_3v', '/m/03bm6', '/m/017r8p', '/m/02vzx9', '/m/0215_s', '/m/03hr1p', '/m/06y_bg', '/m/05zdsq', '/m/020m7t', '/m/0g4fr', '/m/0djtd', '/m/012ndj', '/m/0fm3zh', '/m/05y4t', '/m/04szw', '/m/09rgp', '/m/01s56h', '/m/0971v', '/m/01v327', '/m/046glt', '/m/026bk', '/m/037vsg', '/m/083jv', '/m/03vt0', '/m/01bjv', '/m/0263lr1', '/m/01j0mk', '/m/02yjc', '/m/03qtwd', '/m/01dwwc', '/m/042v_gx', '/m/0bqzm_', '/m/07s6nbt', '/m/01d74z', '/m/07txbq', '/m/0p833', '/m/09qqq', '/m/099md', '/m/01x_v', '/m/01vmzn', '/m/0269r2s', '/m/0gl3_vx', '/m/09jwl', '/m/01zfyk', '/m/0k8hs', '/m/05v1q7', '/m/01g317', '/m/030czg', '/m/0hlzc', '/m/0fszt', '/m/01nblt', '/m/0329yh', '/m/03gfsp', '/m/05sxvp', '/m/0_mjp', '/m/039jq', '/m/0dp7vs', '/m/051rmm', '/m/01515d', '/m/0539n0', '/m/0fly7', '/m/0crjs', '/m/04f76q7', '/m/06rrc', '/m/05t0y8q', '/m/0g8p9', '/m/021w6f', '/m/09b5t', '/m/0j_5b', '/m/0gm3m', '/m/08854', '/m/01c8br', '/m/018w8', '/m/0k1tl', '/m/0qf0c', '/m/01lynh', '/m/0pd7', '/m/0brn2d', '/m/013_1c', '/m/018xm', '/m/0215n', '/m/02qd_7', '/m/02v7zy', '/m/016br2', '/m/01sgl', '/m/03vcw7', '/m/0dnhy', '/m/012qyb', '/m/01jpn4', '/m/03rnh', '/m/045jsc', '/m/0vlys', '/m/02cwm', '/m/025s8bs', '/m/025dq0', '/m/0f25w9', '/m/0hjzp', '/m/0c2wf', '/m/06gfj', '/m/034z7h', '/m/01m2v', '/m/01l7t2', '/m/0dkw5', '/m/0l14j_', '/m/02yhp1', '/m/015r61', '/m/02vyr27', '/m/0g4q3r', '/m/06qqb', '/m/0jt2t3g', '/m/083p6f', '/m/02sgy', '/m/06wqb', '/m/0g9vs81', '/m/03bt1gh', '/m/03q5fj', '/m/02jl78', '/m/07jdr', '/m/0py27', '/m/0lqk', '/m/02fbcn', '/m/035y33', '/m/026z81p', '/m/09w9qp', '/m/034v6m', '/m/05wrt', '/m/02w11w8', '/m/015y8h', '/m/026y56', '/m/01cbzq', '/m/05f9npt', '/m/025s3q0', '/m/07z2l', '/m/0271t', '/m/09lbv', '/m/09qck', '/m/0464z4', '/m/05wy2', '/m/0204fg', '/m/09hlfz', '/m/05kq4', '/m/06tn4', '/m/03jm5', '/m/030zsj', '/m/057cc', '/m/02jspn', '/m/039jbq', '/m/014jg3', '/m/0b9k6q', '/m/027_ny3', '/m/09j2d', '/m/0hnnb', '/m/01lqfm', '/m/04c9vm', '/m/07bgp', '/m/05ws7', '/m/05qdh', '/m/050gv4', '/m/0838f', '/m/02wbm', '/m/0641k', '/m/023kp2', '/m/0bl0l', '/m/0kdzn', '/m/03ljvf', '/m/01t2ln', '/m/01h6rj', '/m/06rvn', '/m/01jp76', '/m/016rh7', '/m/02dlh2', '/m/0c9ph5', '/m/047lggt', '/m/0289j0', '/m/082bv', '/m/03xnm0', '/m/0j2hg', '/m/07pb77', '/m/04t7l', '/m/04rlf', '/m/0pgl9', '/m/0kpbc', '/m/0h5y1j0', '/m/01vxzc', '/m/07_gml', '/m/0dz0lt', '/m/07bsy', '/m/01hcps', '/m/0cdn1', '/m/03bbps', '/m/0g4cd0', '/m/05s2s', '/m/0cxn2', '/m/0f4s2w', '/m/019sc', '/m/0153bq', '/m/025sk5n', '/m/02y_51m', '/m/015qff', '/m/01n5jq', '/m/04shl0', '/m/09sdbh', '/m/05h0n', '/m/0dv5r', '/m/018tkd', '/m/0643t', '/m/0m9cj', '/m/01g5v', '/m/0hpnr', '/m/02csf', '/m/04qgp', '/m/0btp2', '/m/06ntj', '/m/01jm2n', '/m/03vd46', '/m/0ckljz', '/m/09q2t', '/m/01p58g', '/m/0dmq2', '/m/05t4q', '/m/03lnq3', '/m/07j7r', '/m/01x3z', '/m/03ldnb', '/m/01cmcs', '/m/0cfzkp', '/m/09gg3', '/m/04lzmz', '/m/0cgh4', '/m/0frq6', '/m/02t2zd', '/m/01r546', '/m/01wb7', '/m/06z37_', '/m/0cyhj_', '/m/0fpjlj9', '/m/02vx4', '/m/0138tl', '/m/02x984l', '/m/0cvq3', '/m/0dzct', '/m/0cd3bj', '/m/01n8m6', '/m/011yvr', '/m/0ytgt', '/m/016x44', '/m/05r5c', '/m/05zp8', '/m/039v1', '/m/026wh99', '/m/026w19n']\n"
          ],
          "name": "stdout"
        }
      ]
    },
    {
      "cell_type": "code",
      "metadata": {
        "id": "Ydm3vhi1sLj-",
        "colab_type": "code",
        "outputId": "2d1d25fd-e3d2-44ea-93e9-5071fde92024",
        "colab": {
          "base_uri": "https://localhost:8080/",
          "height": 136
        }
      },
      "source": [
        "import matplotlib.pyplot as plt\n",
        "import matplotlib.image as mpimg\n",
        "import cv2\n",
        "from google.colab.patches import cv2_imshow\n",
        "%matplotlib inline\n",
        "import tensorflow as tf\n",
        "from tensorflow import keras\n",
        "\n",
        "from tensorflow.keras.preprocessing.image import ImageDataGenerator\n",
        "data_generator = ImageDataGenerator(rescale = 1./255,\n",
        "                                    shear_range = 0.2,\n",
        "                                    zoom_range = 0.2,\n",
        "                                    horizontal_flip = True,\n",
        "                                    validation_split=0.2)\n",
        "\n",
        "train_generator = data_generator.flow_from_dataframe( dataframe=train,\n",
        "                                                      directory=image_dir,\n",
        "                                                      x_col=0,\n",
        "                                                      y_col=1,\n",
        "                                                      subset=\"training\",\n",
        "                                                      shuffle=True,\n",
        "                                                      class_mode=\"categorical\",\n",
        "                                                      target_size=(128,128),\n",
        "                                                      classes=labels,\n",
        "                                                      batch_size=32)\n",
        "                                                      \n",
        "valid_generator = data_generator.flow_from_dataframe( dataframe=train,\n",
        "                                                      directory=image_dir,\n",
        "                                                      x_col=0,\n",
        "                                                      y_col=1,\n",
        "                                                      subset=\"validation\",\n",
        "                                                      shuffle=True,\n",
        "                                                      class_mode=\"categorical\",\n",
        "                                                      target_size=(128,128),\n",
        "                                                      classes=labels,\n",
        "                                                      batch_size=32)\n",
        "\n",
        "test_datagen=ImageDataGenerator(rescale = 1./255,\n",
        "                                shear_range = 0.2,\n",
        "                                zoom_range = 0.2,\n",
        "                                horizontal_flip = True,)\n",
        "\n",
        "test_generator = test_datagen.flow_from_dataframe( dataframe=test,\n",
        "                                                      directory=image_dir,\n",
        "                                                      x_col=0,\n",
        "                                                      y_col=None,\n",
        "                                                      shuffle=False,\n",
        "                                                      class_mode=None,\n",
        "                                                      target_size=(128,128),\n",
        "                                                      batch_size=32)"
      ],
      "execution_count": 0,
      "outputs": [
        {
          "output_type": "stream",
          "text": [
            "/usr/local/lib/python3.6/dist-packages/keras_preprocessing/image/dataframe_iterator.py:273: UserWarning: Found 12 invalid image filename(s) in x_col=\"0\". These filename(s) will be ignored.\n",
            "  .format(n_invalid, x_col)\n"
          ],
          "name": "stderr"
        },
        {
          "output_type": "stream",
          "text": [
            "Found 631 validated image filenames belonging to 424 classes.\n"
          ],
          "name": "stdout"
        },
        {
          "output_type": "stream",
          "text": [
            "/usr/local/lib/python3.6/dist-packages/keras_preprocessing/image/dataframe_iterator.py:273: UserWarning: Found 7 invalid image filename(s) in x_col=\"0\". These filename(s) will be ignored.\n",
            "  .format(n_invalid, x_col)\n"
          ],
          "name": "stderr"
        },
        {
          "output_type": "stream",
          "text": [
            "Found 158 validated image filenames belonging to 424 classes.\n",
            "Found 200 validated image filenames.\n"
          ],
          "name": "stdout"
        }
      ]
    },
    {
      "cell_type": "code",
      "metadata": {
        "id": "CmKTzZljsLqD",
        "colab_type": "code",
        "outputId": "0f541668-ef0e-43b5-def8-5db9f0cd758d",
        "colab": {
          "base_uri": "https://localhost:8080/",
          "height": 1000
        }
      },
      "source": [
        "from tensorflow.keras.models import Sequential\n",
        "from tensorflow.keras.layers import Dense, Conv2D, MaxPooling2D, Flatten, Activation, Dropout\n",
        "from keras import optimizers\n",
        "\n",
        "classifier = Sequential()\n",
        "#classifier.add(Conv2D(32, (3, 3), padding='same',\n",
        "#                              input_shape=(128,128,3)))\n",
        "classifier.add(Conv2D(filters = 56,kernel_size = (3,3), activation = 'relu', input_shape = (128,128,3)))\n",
        "#classifier.add(Activation('relu'))\n",
        "classifier.add(MaxPooling2D(pool_size=(2, 2)))\n",
        "classifier.add(Conv2D(128, (3, 3)))\n",
        "classifier.add(Activation('relu'))\n",
        "classifier.add(MaxPooling2D(pool_size=(2, 2)))\n",
        "classifier.add(Conv2D(128, (3, 3), padding='same'))\n",
        "classifier.add(Activation('relu'))\n",
        "classifier.add(Conv2D(256, (3, 3)))\n",
        "classifier.add(Activation('relu'))\n",
        "classifier.add(MaxPooling2D(pool_size=(2, 2)))\n",
        "classifier.add(Flatten())\n",
        "classifier.add(Dense(2048))\n",
        "classifier.add(Activation('relu'))\n",
        "classifier.add(Dropout(0.5))\n",
        "\n",
        "\n",
        "\n",
        "\n",
        "\n",
        "#classifier.add(Conv2D(filters = 56,kernel_size = (3,3), activation = 'relu', input_shape = (128,128,3)))\n",
        "#classifier.add(MaxPooling2D(pool_size = (2,2)))\n",
        "#classifier.add(Conv2D(64,(3,3),activation = 'relu'))\n",
        "#classifier.add(MaxPooling2D(pool_size = (2,2)))\n",
        "#classifier.add(Flatten())\n",
        "#######classifier.add(Dense(units = 500, activation = 'relu'))\n",
        "classifier.add(Dense(units = len(labels) , activation = 'sigmoid'))\n",
        "\n",
        "classifier.compile(optimizer = 'adam', loss = 'binary_crossentropy', metrics = ['categorical_accuracy','accuracy'])\n",
        "#classifier.compile(optimizers.rmsprop(lr=0.0001, decay=1e-6),loss=\"binary_crossentropy\",metrics=[\"accuracy\"])\n",
        "classifier.summary()\n",
        "\n",
        "STEP_SIZE_TRAIN=train_generator.n//train_generator.batch_size\n",
        "STEP_SIZE_VALID=valid_generator.n//valid_generator.batch_size\n",
        "STEP_SIZE_TEST=test_generator.n//test_generator.batch_size\n",
        "classifier.fit_generator(generator=train_generator,\n",
        "                    steps_per_epoch=STEP_SIZE_TRAIN,\n",
        "                    validation_data=valid_generator,\n",
        "                    validation_steps=STEP_SIZE_VALID,\n",
        "                    epochs=60\n",
        ")\n",
        "#classifier.fit(train_generator, epochs = 5, steps_per_epoch = 10 )"
      ],
      "execution_count": 0,
      "outputs": [
        {
          "output_type": "stream",
          "text": [
            "Model: \"sequential_1\"\n",
            "_________________________________________________________________\n",
            "Layer (type)                 Output Shape              Param #   \n",
            "=================================================================\n",
            "conv2d_4 (Conv2D)            (None, 126, 126, 56)      1568      \n",
            "_________________________________________________________________\n",
            "max_pooling2d_3 (MaxPooling2 (None, 63, 63, 56)        0         \n",
            "_________________________________________________________________\n",
            "conv2d_5 (Conv2D)            (None, 61, 61, 128)       64640     \n",
            "_________________________________________________________________\n",
            "activation_4 (Activation)    (None, 61, 61, 128)       0         \n",
            "_________________________________________________________________\n",
            "max_pooling2d_4 (MaxPooling2 (None, 30, 30, 128)       0         \n",
            "_________________________________________________________________\n",
            "conv2d_6 (Conv2D)            (None, 30, 30, 128)       147584    \n",
            "_________________________________________________________________\n",
            "activation_5 (Activation)    (None, 30, 30, 128)       0         \n",
            "_________________________________________________________________\n",
            "conv2d_7 (Conv2D)            (None, 28, 28, 256)       295168    \n",
            "_________________________________________________________________\n",
            "activation_6 (Activation)    (None, 28, 28, 256)       0         \n",
            "_________________________________________________________________\n",
            "max_pooling2d_5 (MaxPooling2 (None, 14, 14, 256)       0         \n",
            "_________________________________________________________________\n",
            "flatten_1 (Flatten)          (None, 50176)             0         \n",
            "_________________________________________________________________\n",
            "dense_2 (Dense)              (None, 2048)              102762496 \n",
            "_________________________________________________________________\n",
            "activation_7 (Activation)    (None, 2048)              0         \n",
            "_________________________________________________________________\n",
            "dropout_1 (Dropout)          (None, 2048)              0         \n",
            "_________________________________________________________________\n",
            "dense_3 (Dense)              (None, 424)               868776    \n",
            "=================================================================\n",
            "Total params: 104,140,232\n",
            "Trainable params: 104,140,232\n",
            "Non-trainable params: 0\n",
            "_________________________________________________________________\n",
            "Epoch 1/60\n",
            "19/19 [==============================] - 128s 7s/step - loss: 0.1182 - categorical_accuracy: 0.0902 - accuracy: 0.0902 - val_loss: 0.0348 - val_categorical_accuracy: 0.2188 - val_accuracy: 0.2188\n",
            "Epoch 2/60\n",
            "19/19 [==============================] - 12s 644ms/step - loss: 0.0324 - categorical_accuracy: 0.1753 - accuracy: 0.1753 - val_loss: 0.0297 - val_categorical_accuracy: 0.2109 - val_accuracy: 0.2109\n",
            "Epoch 3/60\n",
            "19/19 [==============================] - 12s 652ms/step - loss: 0.0303 - categorical_accuracy: 0.1903 - accuracy: 0.1903 - val_loss: 0.0289 - val_categorical_accuracy: 0.2500 - val_accuracy: 0.2500\n",
            "Epoch 4/60\n",
            "19/19 [==============================] - 12s 640ms/step - loss: 0.0293 - categorical_accuracy: 0.2154 - accuracy: 0.2154 - val_loss: 0.0285 - val_categorical_accuracy: 0.2656 - val_accuracy: 0.2656\n",
            "Epoch 5/60\n",
            "19/19 [==============================] - 12s 642ms/step - loss: 0.0291 - categorical_accuracy: 0.1720 - accuracy: 0.1720 - val_loss: 0.0315 - val_categorical_accuracy: 0.2266 - val_accuracy: 0.2266\n",
            "Epoch 6/60\n",
            "19/19 [==============================] - 12s 641ms/step - loss: 0.0294 - categorical_accuracy: 0.1953 - accuracy: 0.1953 - val_loss: 0.0297 - val_categorical_accuracy: 0.2578 - val_accuracy: 0.2578\n",
            "Epoch 7/60\n",
            "19/19 [==============================] - 12s 640ms/step - loss: 0.0286 - categorical_accuracy: 0.2220 - accuracy: 0.2220 - val_loss: 0.0295 - val_categorical_accuracy: 0.2656 - val_accuracy: 0.2656\n",
            "Epoch 8/60\n",
            "19/19 [==============================] - 12s 642ms/step - loss: 0.0283 - categorical_accuracy: 0.1970 - accuracy: 0.1970 - val_loss: 0.0302 - val_categorical_accuracy: 0.2266 - val_accuracy: 0.2266\n",
            "Epoch 9/60\n",
            "19/19 [==============================] - 12s 649ms/step - loss: 0.0285 - categorical_accuracy: 0.2137 - accuracy: 0.2137 - val_loss: 0.0302 - val_categorical_accuracy: 0.2266 - val_accuracy: 0.2266\n",
            "Epoch 10/60\n",
            "19/19 [==============================] - 12s 646ms/step - loss: 0.0285 - categorical_accuracy: 0.2404 - accuracy: 0.2404 - val_loss: 0.0306 - val_categorical_accuracy: 0.2500 - val_accuracy: 0.2500\n",
            "Epoch 11/60\n",
            "19/19 [==============================] - 12s 649ms/step - loss: 0.0275 - categorical_accuracy: 0.2638 - accuracy: 0.2638 - val_loss: 0.0296 - val_categorical_accuracy: 0.2812 - val_accuracy: 0.2812\n",
            "Epoch 12/60\n",
            "19/19 [==============================] - 12s 648ms/step - loss: 0.0278 - categorical_accuracy: 0.2154 - accuracy: 0.2154 - val_loss: 0.0307 - val_categorical_accuracy: 0.2578 - val_accuracy: 0.2578\n",
            "Epoch 13/60\n",
            "19/19 [==============================] - 12s 645ms/step - loss: 0.0261 - categorical_accuracy: 0.2721 - accuracy: 0.2721 - val_loss: 0.0291 - val_categorical_accuracy: 0.2734 - val_accuracy: 0.2734\n",
            "Epoch 14/60\n",
            "19/19 [==============================] - 12s 646ms/step - loss: 0.0267 - categorical_accuracy: 0.2421 - accuracy: 0.2421 - val_loss: 0.0296 - val_categorical_accuracy: 0.2891 - val_accuracy: 0.2891\n",
            "Epoch 15/60\n",
            "19/19 [==============================] - 12s 648ms/step - loss: 0.0257 - categorical_accuracy: 0.2621 - accuracy: 0.2621 - val_loss: 0.0299 - val_categorical_accuracy: 0.2031 - val_accuracy: 0.2031\n",
            "Epoch 16/60\n",
            "19/19 [==============================] - 12s 650ms/step - loss: 0.0248 - categorical_accuracy: 0.2888 - accuracy: 0.2888 - val_loss: 0.0298 - val_categorical_accuracy: 0.2422 - val_accuracy: 0.2422\n",
            "Epoch 17/60\n",
            "19/19 [==============================] - 12s 645ms/step - loss: 0.0249 - categorical_accuracy: 0.2521 - accuracy: 0.2521 - val_loss: 0.0307 - val_categorical_accuracy: 0.2734 - val_accuracy: 0.2734\n",
            "Epoch 18/60\n",
            "19/19 [==============================] - 12s 655ms/step - loss: 0.0238 - categorical_accuracy: 0.2747 - accuracy: 0.2747 - val_loss: 0.0299 - val_categorical_accuracy: 0.2578 - val_accuracy: 0.2578\n",
            "Epoch 19/60\n",
            "19/19 [==============================] - 13s 673ms/step - loss: 0.0233 - categorical_accuracy: 0.2671 - accuracy: 0.2671 - val_loss: 0.0315 - val_categorical_accuracy: 0.2578 - val_accuracy: 0.2578\n",
            "Epoch 20/60\n",
            "19/19 [==============================] - 12s 645ms/step - loss: 0.0220 - categorical_accuracy: 0.2705 - accuracy: 0.2705 - val_loss: 0.0313 - val_categorical_accuracy: 0.2656 - val_accuracy: 0.2656\n",
            "Epoch 21/60\n",
            "19/19 [==============================] - 12s 648ms/step - loss: 0.0223 - categorical_accuracy: 0.2821 - accuracy: 0.2821 - val_loss: 0.0305 - val_categorical_accuracy: 0.2500 - val_accuracy: 0.2500\n",
            "Epoch 22/60\n",
            "19/19 [==============================] - 12s 650ms/step - loss: 0.0219 - categorical_accuracy: 0.2821 - accuracy: 0.2821 - val_loss: 0.0317 - val_categorical_accuracy: 0.2578 - val_accuracy: 0.2578\n",
            "Epoch 23/60\n",
            "19/19 [==============================] - 12s 643ms/step - loss: 0.0201 - categorical_accuracy: 0.2788 - accuracy: 0.2788 - val_loss: 0.0321 - val_categorical_accuracy: 0.2109 - val_accuracy: 0.2109\n",
            "Epoch 24/60\n",
            "19/19 [==============================] - 12s 647ms/step - loss: 0.0187 - categorical_accuracy: 0.3122 - accuracy: 0.3122 - val_loss: 0.0338 - val_categorical_accuracy: 0.1953 - val_accuracy: 0.1953\n",
            "Epoch 25/60\n",
            "19/19 [==============================] - 12s 643ms/step - loss: 0.0194 - categorical_accuracy: 0.2504 - accuracy: 0.2504 - val_loss: 0.0343 - val_categorical_accuracy: 0.2344 - val_accuracy: 0.2344\n",
            "Epoch 26/60\n",
            "19/19 [==============================] - ETA: 0s - loss: 0.0174 - categorical_accuracy: 0.3038 - accuracy: 0.3038"
          ],
          "name": "stdout"
        },
        {
          "output_type": "error",
          "ename": "KeyboardInterrupt",
          "evalue": "ignored",
          "traceback": [
            "\u001b[0;31m---------------------------------------------------------------------------\u001b[0m",
            "\u001b[0;31mKeyboardInterrupt\u001b[0m                         Traceback (most recent call last)",
            "\u001b[0;32m<ipython-input-37-66b6afea3f44>\u001b[0m in \u001b[0;36m<module>\u001b[0;34m()\u001b[0m\n\u001b[1;32m     45\u001b[0m                     \u001b[0mvalidation_data\u001b[0m\u001b[0;34m=\u001b[0m\u001b[0mvalid_generator\u001b[0m\u001b[0;34m,\u001b[0m\u001b[0;34m\u001b[0m\u001b[0;34m\u001b[0m\u001b[0m\n\u001b[1;32m     46\u001b[0m                     \u001b[0mvalidation_steps\u001b[0m\u001b[0;34m=\u001b[0m\u001b[0mSTEP_SIZE_VALID\u001b[0m\u001b[0;34m,\u001b[0m\u001b[0;34m\u001b[0m\u001b[0;34m\u001b[0m\u001b[0m\n\u001b[0;32m---> 47\u001b[0;31m                     \u001b[0mepochs\u001b[0m\u001b[0;34m=\u001b[0m\u001b[0;36m60\u001b[0m\u001b[0;34m\u001b[0m\u001b[0;34m\u001b[0m\u001b[0m\n\u001b[0m\u001b[1;32m     48\u001b[0m )\n\u001b[1;32m     49\u001b[0m \u001b[0;31m#classifier.fit(train_generator, epochs = 5, steps_per_epoch = 10 )\u001b[0m\u001b[0;34m\u001b[0m\u001b[0;34m\u001b[0m\u001b[0;34m\u001b[0m\u001b[0m\n",
            "\u001b[0;32m/usr/local/lib/python3.6/dist-packages/tensorflow/python/util/deprecation.py\u001b[0m in \u001b[0;36mnew_func\u001b[0;34m(*args, **kwargs)\u001b[0m\n\u001b[1;32m    322\u001b[0m               \u001b[0;34m'in a future version'\u001b[0m \u001b[0;32mif\u001b[0m \u001b[0mdate\u001b[0m \u001b[0;32mis\u001b[0m \u001b[0;32mNone\u001b[0m \u001b[0;32melse\u001b[0m \u001b[0;34m(\u001b[0m\u001b[0;34m'after %s'\u001b[0m \u001b[0;34m%\u001b[0m \u001b[0mdate\u001b[0m\u001b[0;34m)\u001b[0m\u001b[0;34m,\u001b[0m\u001b[0;34m\u001b[0m\u001b[0;34m\u001b[0m\u001b[0m\n\u001b[1;32m    323\u001b[0m               instructions)\n\u001b[0;32m--> 324\u001b[0;31m       \u001b[0;32mreturn\u001b[0m \u001b[0mfunc\u001b[0m\u001b[0;34m(\u001b[0m\u001b[0;34m*\u001b[0m\u001b[0margs\u001b[0m\u001b[0;34m,\u001b[0m \u001b[0;34m**\u001b[0m\u001b[0mkwargs\u001b[0m\u001b[0;34m)\u001b[0m\u001b[0;34m\u001b[0m\u001b[0;34m\u001b[0m\u001b[0m\n\u001b[0m\u001b[1;32m    325\u001b[0m     return tf_decorator.make_decorator(\n\u001b[1;32m    326\u001b[0m         \u001b[0mfunc\u001b[0m\u001b[0;34m,\u001b[0m \u001b[0mnew_func\u001b[0m\u001b[0;34m,\u001b[0m \u001b[0;34m'deprecated'\u001b[0m\u001b[0;34m,\u001b[0m\u001b[0;34m\u001b[0m\u001b[0;34m\u001b[0m\u001b[0m\n",
            "\u001b[0;32m/usr/local/lib/python3.6/dist-packages/tensorflow/python/keras/engine/training.py\u001b[0m in \u001b[0;36mfit_generator\u001b[0;34m(self, generator, steps_per_epoch, epochs, verbose, callbacks, validation_data, validation_steps, validation_freq, class_weight, max_queue_size, workers, use_multiprocessing, shuffle, initial_epoch)\u001b[0m\n\u001b[1;32m   1480\u001b[0m         \u001b[0muse_multiprocessing\u001b[0m\u001b[0;34m=\u001b[0m\u001b[0muse_multiprocessing\u001b[0m\u001b[0;34m,\u001b[0m\u001b[0;34m\u001b[0m\u001b[0;34m\u001b[0m\u001b[0m\n\u001b[1;32m   1481\u001b[0m         \u001b[0mshuffle\u001b[0m\u001b[0;34m=\u001b[0m\u001b[0mshuffle\u001b[0m\u001b[0;34m,\u001b[0m\u001b[0;34m\u001b[0m\u001b[0;34m\u001b[0m\u001b[0m\n\u001b[0;32m-> 1482\u001b[0;31m         initial_epoch=initial_epoch)\n\u001b[0m\u001b[1;32m   1483\u001b[0m \u001b[0;34m\u001b[0m\u001b[0m\n\u001b[1;32m   1484\u001b[0m   @deprecation.deprecated(\n",
            "\u001b[0;32m/usr/local/lib/python3.6/dist-packages/tensorflow/python/keras/engine/training.py\u001b[0m in \u001b[0;36m_method_wrapper\u001b[0;34m(self, *args, **kwargs)\u001b[0m\n\u001b[1;32m     64\u001b[0m   \u001b[0;32mdef\u001b[0m \u001b[0m_method_wrapper\u001b[0m\u001b[0;34m(\u001b[0m\u001b[0mself\u001b[0m\u001b[0;34m,\u001b[0m \u001b[0;34m*\u001b[0m\u001b[0margs\u001b[0m\u001b[0;34m,\u001b[0m \u001b[0;34m**\u001b[0m\u001b[0mkwargs\u001b[0m\u001b[0;34m)\u001b[0m\u001b[0;34m:\u001b[0m\u001b[0;34m\u001b[0m\u001b[0;34m\u001b[0m\u001b[0m\n\u001b[1;32m     65\u001b[0m     \u001b[0;32mif\u001b[0m \u001b[0;32mnot\u001b[0m \u001b[0mself\u001b[0m\u001b[0;34m.\u001b[0m\u001b[0m_in_multi_worker_mode\u001b[0m\u001b[0;34m(\u001b[0m\u001b[0;34m)\u001b[0m\u001b[0;34m:\u001b[0m  \u001b[0;31m# pylint: disable=protected-access\u001b[0m\u001b[0;34m\u001b[0m\u001b[0;34m\u001b[0m\u001b[0m\n\u001b[0;32m---> 66\u001b[0;31m       \u001b[0;32mreturn\u001b[0m \u001b[0mmethod\u001b[0m\u001b[0;34m(\u001b[0m\u001b[0mself\u001b[0m\u001b[0;34m,\u001b[0m \u001b[0;34m*\u001b[0m\u001b[0margs\u001b[0m\u001b[0;34m,\u001b[0m \u001b[0;34m**\u001b[0m\u001b[0mkwargs\u001b[0m\u001b[0;34m)\u001b[0m\u001b[0;34m\u001b[0m\u001b[0;34m\u001b[0m\u001b[0m\n\u001b[0m\u001b[1;32m     67\u001b[0m \u001b[0;34m\u001b[0m\u001b[0m\n\u001b[1;32m     68\u001b[0m     \u001b[0;31m# Running inside `run_distribute_coordinator` already.\u001b[0m\u001b[0;34m\u001b[0m\u001b[0;34m\u001b[0m\u001b[0;34m\u001b[0m\u001b[0m\n",
            "\u001b[0;32m/usr/local/lib/python3.6/dist-packages/tensorflow/python/keras/engine/training.py\u001b[0m in \u001b[0;36mfit\u001b[0;34m(self, x, y, batch_size, epochs, verbose, callbacks, validation_split, validation_data, shuffle, class_weight, sample_weight, initial_epoch, steps_per_epoch, validation_steps, validation_batch_size, validation_freq, max_queue_size, workers, use_multiprocessing, **kwargs)\u001b[0m\n\u001b[1;32m    873\u001b[0m               \u001b[0mworkers\u001b[0m\u001b[0;34m=\u001b[0m\u001b[0mworkers\u001b[0m\u001b[0;34m,\u001b[0m\u001b[0;34m\u001b[0m\u001b[0;34m\u001b[0m\u001b[0m\n\u001b[1;32m    874\u001b[0m               \u001b[0muse_multiprocessing\u001b[0m\u001b[0;34m=\u001b[0m\u001b[0muse_multiprocessing\u001b[0m\u001b[0;34m,\u001b[0m\u001b[0;34m\u001b[0m\u001b[0;34m\u001b[0m\u001b[0m\n\u001b[0;32m--> 875\u001b[0;31m               return_dict=True)\n\u001b[0m\u001b[1;32m    876\u001b[0m           \u001b[0mval_logs\u001b[0m \u001b[0;34m=\u001b[0m \u001b[0;34m{\u001b[0m\u001b[0;34m'val_'\u001b[0m \u001b[0;34m+\u001b[0m \u001b[0mname\u001b[0m\u001b[0;34m:\u001b[0m \u001b[0mval\u001b[0m \u001b[0;32mfor\u001b[0m \u001b[0mname\u001b[0m\u001b[0;34m,\u001b[0m \u001b[0mval\u001b[0m \u001b[0;32min\u001b[0m \u001b[0mval_logs\u001b[0m\u001b[0;34m.\u001b[0m\u001b[0mitems\u001b[0m\u001b[0;34m(\u001b[0m\u001b[0;34m)\u001b[0m\u001b[0;34m}\u001b[0m\u001b[0;34m\u001b[0m\u001b[0;34m\u001b[0m\u001b[0m\n\u001b[1;32m    877\u001b[0m           \u001b[0mepoch_logs\u001b[0m\u001b[0;34m.\u001b[0m\u001b[0mupdate\u001b[0m\u001b[0;34m(\u001b[0m\u001b[0mval_logs\u001b[0m\u001b[0;34m)\u001b[0m\u001b[0;34m\u001b[0m\u001b[0;34m\u001b[0m\u001b[0m\n",
            "\u001b[0;32m/usr/local/lib/python3.6/dist-packages/tensorflow/python/keras/engine/training.py\u001b[0m in \u001b[0;36m_method_wrapper\u001b[0;34m(self, *args, **kwargs)\u001b[0m\n\u001b[1;32m     64\u001b[0m   \u001b[0;32mdef\u001b[0m \u001b[0m_method_wrapper\u001b[0m\u001b[0;34m(\u001b[0m\u001b[0mself\u001b[0m\u001b[0;34m,\u001b[0m \u001b[0;34m*\u001b[0m\u001b[0margs\u001b[0m\u001b[0;34m,\u001b[0m \u001b[0;34m**\u001b[0m\u001b[0mkwargs\u001b[0m\u001b[0;34m)\u001b[0m\u001b[0;34m:\u001b[0m\u001b[0;34m\u001b[0m\u001b[0;34m\u001b[0m\u001b[0m\n\u001b[1;32m     65\u001b[0m     \u001b[0;32mif\u001b[0m \u001b[0;32mnot\u001b[0m \u001b[0mself\u001b[0m\u001b[0;34m.\u001b[0m\u001b[0m_in_multi_worker_mode\u001b[0m\u001b[0;34m(\u001b[0m\u001b[0;34m)\u001b[0m\u001b[0;34m:\u001b[0m  \u001b[0;31m# pylint: disable=protected-access\u001b[0m\u001b[0;34m\u001b[0m\u001b[0;34m\u001b[0m\u001b[0m\n\u001b[0;32m---> 66\u001b[0;31m       \u001b[0;32mreturn\u001b[0m \u001b[0mmethod\u001b[0m\u001b[0;34m(\u001b[0m\u001b[0mself\u001b[0m\u001b[0;34m,\u001b[0m \u001b[0;34m*\u001b[0m\u001b[0margs\u001b[0m\u001b[0;34m,\u001b[0m \u001b[0;34m**\u001b[0m\u001b[0mkwargs\u001b[0m\u001b[0;34m)\u001b[0m\u001b[0;34m\u001b[0m\u001b[0;34m\u001b[0m\u001b[0m\n\u001b[0m\u001b[1;32m     67\u001b[0m \u001b[0;34m\u001b[0m\u001b[0m\n\u001b[1;32m     68\u001b[0m     \u001b[0;31m# Running inside `run_distribute_coordinator` already.\u001b[0m\u001b[0;34m\u001b[0m\u001b[0;34m\u001b[0m\u001b[0;34m\u001b[0m\u001b[0m\n",
            "\u001b[0;32m/usr/local/lib/python3.6/dist-packages/tensorflow/python/keras/engine/training.py\u001b[0m in \u001b[0;36mevaluate\u001b[0;34m(self, x, y, batch_size, verbose, sample_weight, steps, callbacks, max_queue_size, workers, use_multiprocessing, return_dict)\u001b[0m\n\u001b[1;32m   1082\u001b[0m                 step_num=step):\n\u001b[1;32m   1083\u001b[0m               \u001b[0mcallbacks\u001b[0m\u001b[0;34m.\u001b[0m\u001b[0mon_test_batch_begin\u001b[0m\u001b[0;34m(\u001b[0m\u001b[0mstep\u001b[0m\u001b[0;34m)\u001b[0m\u001b[0;34m\u001b[0m\u001b[0;34m\u001b[0m\u001b[0m\n\u001b[0;32m-> 1084\u001b[0;31m               \u001b[0mtmp_logs\u001b[0m \u001b[0;34m=\u001b[0m \u001b[0mtest_function\u001b[0m\u001b[0;34m(\u001b[0m\u001b[0miterator\u001b[0m\u001b[0;34m)\u001b[0m\u001b[0;34m\u001b[0m\u001b[0;34m\u001b[0m\u001b[0m\n\u001b[0m\u001b[1;32m   1085\u001b[0m               \u001b[0;31m# Catch OutOfRangeError for Datasets of unknown size.\u001b[0m\u001b[0;34m\u001b[0m\u001b[0;34m\u001b[0m\u001b[0;34m\u001b[0m\u001b[0m\n\u001b[1;32m   1086\u001b[0m               \u001b[0;31m# This blocks until the batch has finished executing.\u001b[0m\u001b[0;34m\u001b[0m\u001b[0;34m\u001b[0m\u001b[0;34m\u001b[0m\u001b[0m\n",
            "\u001b[0;32m/usr/local/lib/python3.6/dist-packages/tensorflow/python/eager/def_function.py\u001b[0m in \u001b[0;36m__call__\u001b[0;34m(self, *args, **kwds)\u001b[0m\n\u001b[1;32m    578\u001b[0m         \u001b[0mxla_context\u001b[0m\u001b[0;34m.\u001b[0m\u001b[0mExit\u001b[0m\u001b[0;34m(\u001b[0m\u001b[0;34m)\u001b[0m\u001b[0;34m\u001b[0m\u001b[0;34m\u001b[0m\u001b[0m\n\u001b[1;32m    579\u001b[0m     \u001b[0;32melse\u001b[0m\u001b[0;34m:\u001b[0m\u001b[0;34m\u001b[0m\u001b[0;34m\u001b[0m\u001b[0m\n\u001b[0;32m--> 580\u001b[0;31m       \u001b[0mresult\u001b[0m \u001b[0;34m=\u001b[0m \u001b[0mself\u001b[0m\u001b[0;34m.\u001b[0m\u001b[0m_call\u001b[0m\u001b[0;34m(\u001b[0m\u001b[0;34m*\u001b[0m\u001b[0margs\u001b[0m\u001b[0;34m,\u001b[0m \u001b[0;34m**\u001b[0m\u001b[0mkwds\u001b[0m\u001b[0;34m)\u001b[0m\u001b[0;34m\u001b[0m\u001b[0;34m\u001b[0m\u001b[0m\n\u001b[0m\u001b[1;32m    581\u001b[0m \u001b[0;34m\u001b[0m\u001b[0m\n\u001b[1;32m    582\u001b[0m     \u001b[0;32mif\u001b[0m \u001b[0mtracing_count\u001b[0m \u001b[0;34m==\u001b[0m \u001b[0mself\u001b[0m\u001b[0;34m.\u001b[0m\u001b[0m_get_tracing_count\u001b[0m\u001b[0;34m(\u001b[0m\u001b[0;34m)\u001b[0m\u001b[0;34m:\u001b[0m\u001b[0;34m\u001b[0m\u001b[0;34m\u001b[0m\u001b[0m\n",
            "\u001b[0;32m/usr/local/lib/python3.6/dist-packages/tensorflow/python/eager/def_function.py\u001b[0m in \u001b[0;36m_call\u001b[0;34m(self, *args, **kwds)\u001b[0m\n\u001b[1;32m    616\u001b[0m       \u001b[0;31m# In this case we have not created variables on the first call. So we can\u001b[0m\u001b[0;34m\u001b[0m\u001b[0;34m\u001b[0m\u001b[0;34m\u001b[0m\u001b[0m\n\u001b[1;32m    617\u001b[0m       \u001b[0;31m# run the first trace but we should fail if variables are created.\u001b[0m\u001b[0;34m\u001b[0m\u001b[0;34m\u001b[0m\u001b[0;34m\u001b[0m\u001b[0m\n\u001b[0;32m--> 618\u001b[0;31m       \u001b[0mresults\u001b[0m \u001b[0;34m=\u001b[0m \u001b[0mself\u001b[0m\u001b[0;34m.\u001b[0m\u001b[0m_stateful_fn\u001b[0m\u001b[0;34m(\u001b[0m\u001b[0;34m*\u001b[0m\u001b[0margs\u001b[0m\u001b[0;34m,\u001b[0m \u001b[0;34m**\u001b[0m\u001b[0mkwds\u001b[0m\u001b[0;34m)\u001b[0m\u001b[0;34m\u001b[0m\u001b[0;34m\u001b[0m\u001b[0m\n\u001b[0m\u001b[1;32m    619\u001b[0m       \u001b[0;32mif\u001b[0m \u001b[0mself\u001b[0m\u001b[0;34m.\u001b[0m\u001b[0m_created_variables\u001b[0m\u001b[0;34m:\u001b[0m\u001b[0;34m\u001b[0m\u001b[0;34m\u001b[0m\u001b[0m\n\u001b[1;32m    620\u001b[0m         raise ValueError(\"Creating variables on a non-first call to a function\"\n",
            "\u001b[0;32m/usr/local/lib/python3.6/dist-packages/tensorflow/python/eager/function.py\u001b[0m in \u001b[0;36m__call__\u001b[0;34m(self, *args, **kwargs)\u001b[0m\n\u001b[1;32m   2418\u001b[0m     \u001b[0;32mwith\u001b[0m \u001b[0mself\u001b[0m\u001b[0;34m.\u001b[0m\u001b[0m_lock\u001b[0m\u001b[0;34m:\u001b[0m\u001b[0;34m\u001b[0m\u001b[0;34m\u001b[0m\u001b[0m\n\u001b[1;32m   2419\u001b[0m       \u001b[0mgraph_function\u001b[0m\u001b[0;34m,\u001b[0m \u001b[0margs\u001b[0m\u001b[0;34m,\u001b[0m \u001b[0mkwargs\u001b[0m \u001b[0;34m=\u001b[0m \u001b[0mself\u001b[0m\u001b[0;34m.\u001b[0m\u001b[0m_maybe_define_function\u001b[0m\u001b[0;34m(\u001b[0m\u001b[0margs\u001b[0m\u001b[0;34m,\u001b[0m \u001b[0mkwargs\u001b[0m\u001b[0;34m)\u001b[0m\u001b[0;34m\u001b[0m\u001b[0;34m\u001b[0m\u001b[0m\n\u001b[0;32m-> 2420\u001b[0;31m     \u001b[0;32mreturn\u001b[0m \u001b[0mgraph_function\u001b[0m\u001b[0;34m.\u001b[0m\u001b[0m_filtered_call\u001b[0m\u001b[0;34m(\u001b[0m\u001b[0margs\u001b[0m\u001b[0;34m,\u001b[0m \u001b[0mkwargs\u001b[0m\u001b[0;34m)\u001b[0m  \u001b[0;31m# pylint: disable=protected-access\u001b[0m\u001b[0;34m\u001b[0m\u001b[0;34m\u001b[0m\u001b[0m\n\u001b[0m\u001b[1;32m   2421\u001b[0m \u001b[0;34m\u001b[0m\u001b[0m\n\u001b[1;32m   2422\u001b[0m   \u001b[0;34m@\u001b[0m\u001b[0mproperty\u001b[0m\u001b[0;34m\u001b[0m\u001b[0;34m\u001b[0m\u001b[0m\n",
            "\u001b[0;32m/usr/local/lib/python3.6/dist-packages/tensorflow/python/eager/function.py\u001b[0m in \u001b[0;36m_filtered_call\u001b[0;34m(self, args, kwargs)\u001b[0m\n\u001b[1;32m   1663\u001b[0m          if isinstance(t, (ops.Tensor,\n\u001b[1;32m   1664\u001b[0m                            resource_variable_ops.BaseResourceVariable))),\n\u001b[0;32m-> 1665\u001b[0;31m         self.captured_inputs)\n\u001b[0m\u001b[1;32m   1666\u001b[0m \u001b[0;34m\u001b[0m\u001b[0m\n\u001b[1;32m   1667\u001b[0m   \u001b[0;32mdef\u001b[0m \u001b[0m_call_flat\u001b[0m\u001b[0;34m(\u001b[0m\u001b[0mself\u001b[0m\u001b[0;34m,\u001b[0m \u001b[0margs\u001b[0m\u001b[0;34m,\u001b[0m \u001b[0mcaptured_inputs\u001b[0m\u001b[0;34m,\u001b[0m \u001b[0mcancellation_manager\u001b[0m\u001b[0;34m=\u001b[0m\u001b[0;32mNone\u001b[0m\u001b[0;34m)\u001b[0m\u001b[0;34m:\u001b[0m\u001b[0;34m\u001b[0m\u001b[0;34m\u001b[0m\u001b[0m\n",
            "\u001b[0;32m/usr/local/lib/python3.6/dist-packages/tensorflow/python/eager/function.py\u001b[0m in \u001b[0;36m_call_flat\u001b[0;34m(self, args, captured_inputs, cancellation_manager)\u001b[0m\n\u001b[1;32m   1744\u001b[0m       \u001b[0;31m# No tape is watching; skip to running the function.\u001b[0m\u001b[0;34m\u001b[0m\u001b[0;34m\u001b[0m\u001b[0;34m\u001b[0m\u001b[0m\n\u001b[1;32m   1745\u001b[0m       return self._build_call_outputs(self._inference_function.call(\n\u001b[0;32m-> 1746\u001b[0;31m           ctx, args, cancellation_manager=cancellation_manager))\n\u001b[0m\u001b[1;32m   1747\u001b[0m     forward_backward = self._select_forward_and_backward_functions(\n\u001b[1;32m   1748\u001b[0m         \u001b[0margs\u001b[0m\u001b[0;34m,\u001b[0m\u001b[0;34m\u001b[0m\u001b[0;34m\u001b[0m\u001b[0m\n",
            "\u001b[0;32m/usr/local/lib/python3.6/dist-packages/tensorflow/python/eager/function.py\u001b[0m in \u001b[0;36mcall\u001b[0;34m(self, ctx, args, cancellation_manager)\u001b[0m\n\u001b[1;32m    596\u001b[0m               \u001b[0minputs\u001b[0m\u001b[0;34m=\u001b[0m\u001b[0margs\u001b[0m\u001b[0;34m,\u001b[0m\u001b[0;34m\u001b[0m\u001b[0;34m\u001b[0m\u001b[0m\n\u001b[1;32m    597\u001b[0m               \u001b[0mattrs\u001b[0m\u001b[0;34m=\u001b[0m\u001b[0mattrs\u001b[0m\u001b[0;34m,\u001b[0m\u001b[0;34m\u001b[0m\u001b[0;34m\u001b[0m\u001b[0m\n\u001b[0;32m--> 598\u001b[0;31m               ctx=ctx)\n\u001b[0m\u001b[1;32m    599\u001b[0m         \u001b[0;32melse\u001b[0m\u001b[0;34m:\u001b[0m\u001b[0;34m\u001b[0m\u001b[0;34m\u001b[0m\u001b[0m\n\u001b[1;32m    600\u001b[0m           outputs = execute.execute_with_cancellation(\n",
            "\u001b[0;32m/usr/local/lib/python3.6/dist-packages/tensorflow/python/eager/execute.py\u001b[0m in \u001b[0;36mquick_execute\u001b[0;34m(op_name, num_outputs, inputs, attrs, ctx, name)\u001b[0m\n\u001b[1;32m     58\u001b[0m     \u001b[0mctx\u001b[0m\u001b[0;34m.\u001b[0m\u001b[0mensure_initialized\u001b[0m\u001b[0;34m(\u001b[0m\u001b[0;34m)\u001b[0m\u001b[0;34m\u001b[0m\u001b[0;34m\u001b[0m\u001b[0m\n\u001b[1;32m     59\u001b[0m     tensors = pywrap_tfe.TFE_Py_Execute(ctx._handle, device_name, op_name,\n\u001b[0;32m---> 60\u001b[0;31m                                         inputs, attrs, num_outputs)\n\u001b[0m\u001b[1;32m     61\u001b[0m   \u001b[0;32mexcept\u001b[0m \u001b[0mcore\u001b[0m\u001b[0;34m.\u001b[0m\u001b[0m_NotOkStatusException\u001b[0m \u001b[0;32mas\u001b[0m \u001b[0me\u001b[0m\u001b[0;34m:\u001b[0m\u001b[0;34m\u001b[0m\u001b[0;34m\u001b[0m\u001b[0m\n\u001b[1;32m     62\u001b[0m     \u001b[0;32mif\u001b[0m \u001b[0mname\u001b[0m \u001b[0;32mis\u001b[0m \u001b[0;32mnot\u001b[0m \u001b[0;32mNone\u001b[0m\u001b[0;34m:\u001b[0m\u001b[0;34m\u001b[0m\u001b[0;34m\u001b[0m\u001b[0m\n",
            "\u001b[0;31mKeyboardInterrupt\u001b[0m: "
          ]
        }
      ]
    },
    {
      "cell_type": "code",
      "metadata": {
        "id": "kbesBBIG2Pr8",
        "colab_type": "code",
        "outputId": "ee4f414b-eece-4009-d1b5-062af0e35aa8",
        "colab": {
          "base_uri": "https://localhost:8080/",
          "height": 255
        }
      },
      "source": [
        "\n",
        "#ar = test.iloc[:2,:]\n",
        "#print(ar)\n",
        "\n",
        "#test_generator = data_generator.flow_from_dataframe( dataframe=ar,\n",
        "#                                                      directory=image_dir,\n",
        "#                                                      x_col=0,\n",
        "#                                                      class_mode=None,\n",
        "#                                                      target_size=(128,128),\n",
        "#                                                      batch_size=1)\n",
        "\n",
        "\n",
        "\n",
        "\n",
        "test_generator.reset()\n",
        "pred=classifier.predict(test_generator, \n",
        "                        steps=STEP_SIZE_TEST,\n",
        "                              verbose=1)\n",
        "\n",
        "print(pred)\n",
        "\n",
        " #print(test_generator[0][0])\n",
        " #classifier.predict(test_generator[0])"
      ],
      "execution_count": 0,
      "outputs": [
        {
          "output_type": "stream",
          "text": [
            "6/6 [==============================] - 93s 15s/step\n",
            "[[1.8221751e-03 2.1169067e-03 1.1304301e-05 ... 1.9733994e-03\n",
            "  1.8941722e-05 4.5733042e-03]\n",
            " [6.6181348e-04 3.0372139e-06 1.0503170e-06 ... 8.1969651e-05\n",
            "  3.6491650e-07 5.3524953e-05]\n",
            " [2.7711401e-04 9.3370130e-05 1.6756164e-06 ... 2.5820710e-02\n",
            "  1.3736794e-06 7.1839389e-04]\n",
            " ...\n",
            " [7.4652417e-05 7.1655761e-04 5.2544883e-06 ... 6.8756817e-03\n",
            "  5.2134637e-06 1.2608255e-03]\n",
            " [2.4599954e-02 5.7898066e-04 3.1855761e-05 ... 1.6151859e-03\n",
            "  3.7635047e-05 1.2497558e-03]\n",
            " [7.8657571e-08 1.9725933e-07 1.7346891e-09 ... 9.5890078e-09\n",
            "  1.2261318e-09 3.4586431e-09]]\n"
          ],
          "name": "stdout"
        }
      ]
    },
    {
      "cell_type": "code",
      "metadata": {
        "id": "oxtOe7l7ipgd",
        "colab_type": "code",
        "colab": {}
      },
      "source": [
        ""
      ],
      "execution_count": 0,
      "outputs": []
    },
    {
      "cell_type": "code",
      "metadata": {
        "id": "MxePJulXQUNC",
        "colab_type": "code",
        "colab": {}
      },
      "source": [
        "pred_bool = (pred >0.5)\n",
        "predictions=[]\n",
        "new_labels = train_generator.class_indices\n",
        "new_labels = dict((v,k) for k,v in new_labels.items())\n",
        "for row in pred_bool:\n",
        "  #print(row)\n",
        "  l=[]\n",
        "  for index,cls in enumerate(row):\n",
        "      if cls:\n",
        "          l.append(new_labels[index])\n",
        "  predictions.append(\",\".join(l))\n",
        "filenames=test_generator.filenames\n",
        "\n",
        "#results.to_csv(\"results.csv\",index=False)"
      ],
      "execution_count": 0,
      "outputs": []
    },
    {
      "cell_type": "code",
      "metadata": {
        "id": "J6vDHmt9p1NE",
        "colab_type": "code",
        "outputId": "58a5fde5-1714-41fe-d040-bb1085971935",
        "colab": {
          "base_uri": "https://localhost:8080/",
          "height": 1000
        }
      },
      "source": [
        "test_act_labels = test[list(map(lambda x: x in filenames, test.iloc[:,0]))].reset_index(drop=True)[:len(predictions)].iloc[:,1]\n",
        "test_act_labels = list(map(lambda x: list(set(x).intersection(labels)), test_act_labels))\n",
        "results=pd.DataFrame({\"Filename\":filenames[:len(predictions)],\n",
        "                      \"Predictions\":predictions,\n",
        "                     \"Actual\":test_act_labels})\n",
        "pd.set_option('display.max_rows', None)\n",
        "pd.set_option('display.max_columns', None)\n",
        "pd.set_option('display.width', 300)\n",
        "print(results)\n",
        "#print(test[list(map(lambda x: x in filenames, test.iloc[:,0]))].reset_index(drop=True)[:len(predictions)].iloc[:,1])"
      ],
      "execution_count": 0,
      "outputs": [
        {
          "output_type": "stream",
          "text": [
            "                         Filename                  Predictions                                             Actual\n",
            "0    6c424e514d784f596c46633d.jpg                                                                      [/m/04szw]\n",
            "1    7341655374435864766d453d.jpg            /m/05s2s,/m/07j7r                     [/m/07j7r, /m/083vt, /m/05s2s]\n",
            "2    2f6e366c623975374e614d3d.jpg                                                 [/m/0199g, /m/03p2h9, /m/09rgp]\n",
            "3    31654d334c5865797151303d.jpg                                                            [/m/01f43, /m/05h0n]\n",
            "4    48504b4d617471787772383d.jpg                    /m/01g317       [/m/01d74z, /m/01g317, /m/01c8br, /m/06ts_6]\n",
            "5    6544773735567645444d6b3d.jpg                     /m/02sgy                     [/m/0jjw, /m/01g317, /m/034wh]\n",
            "6    446b2f52344e47784671513d.jpg                     /m/05s2s                 [/m/0brn2d, /m/01vxzc, /m/0263lr1]\n",
            "7    423032676b4f4a67444a383d.jpg                                                                     [/m/01g317]\n",
            "8    3130544a475478654551493d.jpg                                     [/m/08t9c_, /m/01g317, /m/0166ls, /m/05s2s]\n",
            "9    516447664c666f785062343d.jpg                     /m/07j7r                                         [/m/07j7r]\n",
            "10   2b2f44594449326f4e52553d.jpg                                                          [/m/01g317, /m/06ts_6]\n",
            "11   38755462506e6262394c773d.jpg                                                                     [/m/02_vjy]\n",
            "12   44744a343973346f6347553d.jpg                               [/m/057gn, /m/0539n0, /m/07bsy, /m/05zdp, /m/0...\n",
            "13   4a737041784152693571493d.jpg            /m/01g317,/m/0jjw                                                 []\n",
            "14   716a5742656e59335051773d.jpg                    /m/01g317                                                 []\n",
            "15   46633967434e2f5164726f3d.jpg                    /m/01g317                                                 []\n",
            "16   4b77732f666a4e4d2b76773d.jpg                                                                      [/m/0jyfg]\n",
            "17   79334c2f2f4137736272553d.jpg                                                           [/m/07j7r, /m/0180xr]\n",
            "18   32335067466571302f49413d.jpg                                                                      [/m/0199g]\n",
            "19   5533713770574a536575383d.jpg             /m/05qdh,/m/0jjw                                                 []\n",
            "20   4a6d65714a3038634c71343d.jpg                                                            [/m/07bsy, /m/09rgp]\n",
            "21   473573495a58786e70686f3d.jpg                    /m/01g317                               [/m/07j7r, /m/0djtd]\n",
            "22   472f736c6666517142656f3d.jpg                                                   [/m/0jjw, /m/034wh, /m/0dx1j]\n",
            "23   336568724f7a67717a66453d.jpg                                                           [/m/01g317, /m/05wrt]\n",
            "24   784d667a45774d6957734d3d.jpg                                                          [/m/01lwf0, /m/0180xr]\n",
            "25   457769736b552b52384a4d3d.jpg                     /m/05s2s                                         [/m/05s2s]\n",
            "26   355567482f6b75524551413d.jpg            /m/05s2s,/m/07j7r                     [/m/07j7r, /m/083vt, /m/05s2s]\n",
            "27   69634f3349463777384f343d.jpg                                                           [/m/0pgl9, /m/01g317]\n",
            "28   4932714a6d6679537356673d.jpg                     /m/05s2s                                                 []\n",
            "29   496e4c37623078734f63383d.jpg  /m/01g317,/m/02sgy,/m/04szw                              [/m/0jyfg, /m/017ftj]\n",
            "30   4a57574746396f617773493d.jpg                                                                     [/m/01g317]\n",
            "31   346455452b49594d334f4d3d.jpg                     /m/04szw                    [/m/0jjw, /m/01g317, /m/01c8br]\n",
            "32   7a704375527150436248733d.jpg                                                                      [/m/07j7r]\n",
            "33   4f2b415563374e7448446f3d.jpg                     /m/05s2s                    [/m/0199g, /m/03p2h9, /m/09rgp]\n",
            "34   384943412f7a4971586f6b3d.jpg                     /m/05s2s                                         [/m/07j7r]\n",
            "35   4b576362447951654754553d.jpg                    /m/01g317          [/m/0199g, /m/0_mjp, /m/03p2h9, /m/09rgp]\n",
            "36   68316773635a517371696b3d.jpg                                                                      [/m/07j7r]\n",
            "37   7366362f365a4152324e383d.jpg                                                            [/m/0jjw, /m/07vwy6]\n",
            "38   776c79714f317a563343303d.jpg                                                                              []\n",
            "39   4a3774367172792f6278773d.jpg                                                                     [/m/01g317]\n",
            "40   736b564d706a48593257733d.jpg                     /m/05s2s                                         [/m/05s2s]\n",
            "41   2b52586f4a6a52707764493d.jpg                                                                     [/m/01g317]\n",
            "42   6b436e36575133547a75633d.jpg                               [/m/0k5j, /m/015z8s, /m/09cjl, /m/047lggt, /m/...\n",
            "43   2f4b6d3663484d68734d493d.jpg                                                           [/m/0jyfg, /m/017ftj]\n",
            "44   64544e4a346857482f47673d.jpg                      /m/0jjw                              [/m/01g317, /m/04scj]\n",
            "45   4e6369574c716e494c42303d.jpg                                                                      [/m/06rrc]\n",
            "46   6c30453369637059536b4d3d.jpg                                      [/m/03nfmq, /m/03jm5, /m/01nblt, /m/05wrt]\n",
            "47   46714871545257453174413d.jpg                    /m/01g317                  [/m/07s6nbt, /m/02csf, /m/01g317]\n",
            "48   7039327653304c325047553d.jpg                                                            [/m/019sc, /m/083jv]\n",
            "49   31546258784248746e51303d.jpg                    /m/01g317                                         [/m/02wbm]\n",
            "50   794970384d4750425a69773d.jpg                                                          [/m/09p3jz, /m/01c8br]\n",
            "51   4e5970725737546f3632593d.jpg                                                 [/m/0jjw, /m/07vwy6, /m/01g317]\n",
            "52   2b48396a395777587938593d.jpg                                                  [/m/0_mjp, /m/0199g, /m/09rgp]\n",
            "53   68647338377a33584c36773d.jpg                    /m/01g317           [/m/07j7r, /m/083vt, /m/0d4v4, /m/05s2s]\n",
            "54   694d58716f6b542b6650413d.jpg                                                           [/m/07j7r, /m/01g317]\n",
            "55   7232677865424a354a41593d.jpg                                    [/m/0brn2d, /m/01f4td, /m/0263lr1, /m/0g8p9]\n",
            "56   70495964703757617047553d.jpg                                                                              []\n",
            "57   326168464e7147397278733d.jpg                     /m/05s2s                              [/m/08t9c_, /m/05s2s]\n",
            "58   547274544e314c496570493d.jpg                                                                      [/m/0jyfg]\n",
            "59   6f4d434a76484f4c492f593d.jpg                                                                              []\n",
            "60   527945656e6370596564593d.jpg                                                  [/m/0jjw, /m/09qqq, /m/07vwy6]\n",
            "61   34784136583341355a4b6b3d.jpg                     /m/05s2s                                         [/m/05s2s]\n",
            "62   5179616468783836316e773d.jpg                     /m/05s2s                                         [/m/07j7r]\n",
            "63   4848784751596a564835593d.jpg                                                 [/m/0jjw, /m/02csf, /m/027_ny3]\n",
            "64   634a364d346b78556943413d.jpg                     /m/05s2s       [/m/05zdsq, /m/07j7r, /m/0166ls, /m/026wh99]\n",
            "65   5059384d706c7a6a7a6e513d.jpg                                                                      [/m/07j7r]\n",
            "66   7074704455474c6a716b733d.jpg                    /m/01g317                   [/m/07yv9, /m/01g317, /m/015qff]\n",
            "67   6a706a624d5555717075593d.jpg                     /m/05s2s                    [/m/01g317, /m/0199g, /m/09rgp]\n",
            "68   756a5971783662683757673d.jpg                    /m/01g317                                         [/m/09cjl]\n",
            "69   38355231744e315957384d3d.jpg                     /m/07j7r  [/m/05s2s, /m/05zdsq, /m/026wh99, /m/07j7r, /m...\n",
            "70   784c794637656c393671593d.jpg                                                                              []\n",
            "71   4f6c5134316d45473037303d.jpg                     /m/07j7r          [/m/0vlys, /m/03jm5, /m/01nblt, /m/07j7r]\n",
            "72   7432576d65424939426a383d.jpg                                                                      [/m/0jyfg]\n",
            "73   6e65544153636a437a764d3d.jpg                    /m/01g317                                         [/m/0jyfg]\n",
            "74   7666555a66375661592b383d.jpg                    /m/0180xr                             [/m/07j7r, /m/025s3q0]\n",
            "75   4d6a79684a546c774952513d.jpg                                                                              []\n",
            "76   625830477a6a39335475553d.jpg                                       [/m/0jjw, /m/07vwy6, /m/01g317, /m/034wh]\n",
            "77   557731424f7759366552493d.jpg             /m/02csf,/m/0jjw                              [/m/0f25w9, /m/04scj]\n",
            "78   3464654574674f73564b6f3d.jpg                    /m/01g317                              [/m/01g317, /m/02522]\n",
            "79   5532384b725a33643836343d.jpg                    /m/01g317                                         [/m/06npx]\n",
            "80   52695270487654346a66773d.jpg                     /m/05s2s                              [/m/01g317, /m/03bm6]\n",
            "81   2b63736f717065726358593d.jpg            /m/07vwy6,/m/0jjw                               [/m/0jjw, /m/07vwy6]\n",
            "82   7039324558674563516d633d.jpg                                                 [/m/0dnhy, /m/07j7r, /m/01c8br]\n",
            "83   6f4a7359356f46485130453d.jpg                                                            [/m/0k5j, /m/015y8h]\n",
            "84   504e70514c426e467531493d.jpg                                                                      [/m/04scj]\n",
            "85   765a684633724a4b5130303d.jpg                                                                              []\n",
            "86   4f726f50686b72473963413d.jpg                                                                      [/m/07yv9]\n",
            "87   2b686967554a4d386663773d.jpg                     /m/05s2s          [/m/0c9ph5, /m/083vt, /m/06fvc, /m/05s2s]\n",
            "88   4c376865637941314576553d.jpg                     /m/02csf                                         [/m/0g6b5]\n",
            "89   734d685035632b5a45356b3d.jpg                                                           [/m/07yv9, /m/05sxvp]\n",
            "90   595a70576f4f7556486e6f3d.jpg                     /m/05s2s                              [/m/01g317, /m/0271t]\n",
            "91   64504f57656636432f4b6b3d.jpg                                                           [/m/01g317, /m/039v1]\n",
            "92   36587268635133722b41513d.jpg                                                                     [/m/01g317]\n",
            "93   4c4862664c6e4d66354a343d.jpg                                                                     [/m/01xxtm]\n",
            "94   6c634c62346d48443759513d.jpg                                                                      [/m/04szw]\n",
            "95   544a685a632f4b734150383d.jpg                                                                      [/m/05s2s]\n",
            "96   43327a595574514e62654d3d.jpg                    /m/01g317                              [/m/07yv9, /m/01g317]\n",
            "97   423777596a5645793834343d.jpg                    /m/01g317                                        [/m/01g317]\n",
            "98   464c512f334967574e2b6b3d.jpg                                   [/m/01yrx, /m/012c9l, /m/02rcwpb, /m/0jt2t3g]\n",
            "99   72734436664562457253593d.jpg                                                                     [/m/01g317]\n",
            "100  36655548735946654a72383d.jpg                                                          [/m/013_1c, /m/01g317]\n",
            "101  72455170564633536453343d.jpg                                              [/m/02c3nd, /m/01g317, /m/0gl2ny2]\n",
            "102  782f52616c4969394f61673d.jpg                                                  [/m/0vlys, /m/0pgl9, /m/0335j]\n",
            "103  63734e4a634944494931633d.jpg                                                           [/m/09j2d, /m/01g317]\n",
            "104  6e4a2f334f2b6a6d4c6b383d.jpg                    /m/01g317                                                 []\n",
            "105  414c45587a697868704d493d.jpg                    /m/01g317        [/m/09p3jz, /m/01g317, /m/01c8br, /m/03bm6]\n",
            "106  50667a5272714b327142343d.jpg                                               [/m/05zdsq, /m/07j7r, /m/026wh99]\n",
            "107  48395562393959545a42343d.jpg                                                          [/m/0c9ph5, /m/034v6m]\n",
            "108  5730674b5067716842356b3d.jpg                     /m/05s2s                                         [/m/05s2s]\n",
            "109  4f2f796c36374c413966493d.jpg                                               [/m/07s6nbt, /m/02csf, /m/01g317]\n",
            "110  4b4457447537782f4333413d.jpg                                                [/m/07yv9, /m/01g317, /m/05sxvp]\n",
            "111  6f684b59366448697765413d.jpg                                                                     [/m/01g317]\n",
            "112  526e317865554369704b633d.jpg                                                 [/m/01g317, /m/0199g, /m/09rgp]\n",
            "113  6f526175696d4e5a736c773d.jpg                                                                              []\n",
            "114  3351334e71524c776254553d.jpg                                                [/m/0dx1j, /m/0180xr, /m/01c8br]\n",
            "115  3154736b764d62445145383d.jpg                    /m/01g317                               [/m/0dmq2, /m/04_sv]\n",
            "116  656a53624e2f6b2b6f62343d.jpg                                                           [/m/07yv9, /m/01g317]\n",
            "117  4d344a43324659776751633d.jpg                                                                      [/m/0cxn2]\n",
            "118  67676668664a56786252593d.jpg                                                                      [/m/0199g]\n",
            "119  4e6f766b374a654f4373413d.jpg                                                                              []\n",
            "120  744f44426f4d62476b66493d.jpg                                      [/m/018dz0, /m/05v1q7, /m/0971v, /m/04scj]\n",
            "121  55366854692b63746a55453d.jpg                                               [/m/01c8br, /m/01g317, /m/0180xr]\n",
            "122  73396c7842656e4f644e303d.jpg                                                          [/m/0138tl, /m/01g317]\n",
            "123  515041614236736c55664d3d.jpg                                                 [/m/01g317, /m/0bl0l, /m/05s2s]\n",
            "124  7833786d4d77454b3369493d.jpg                    /m/01g317                              [/m/0fm3zh, /m/05s2s]\n",
            "125  374d396242616f354e4e593d.jpg                    /m/07vwy6                                        [/m/01g317]\n",
            "126  75333679784e2b42346e303d.jpg                                                           [/m/02csf, /m/06z37_]\n",
            "127  316471553634343156584d3d.jpg                     /m/05s2s                                         [/m/05s2s]\n",
            "128  487363436a2b5a756570453d.jpg                    /m/01g317                              [/m/01g317, /m/04scj]\n",
            "129  30476e6c3172477a4d4e493d.jpg                    /m/01g317          [/m/0199g, /m/07bsy, /m/03p2h9, /m/09rgp]\n",
            "130  7055755359466d7150726b3d.jpg                    /m/01g317                    [/m/05zdp, /m/07bsy, /m/01g317]\n",
            "131  48427666414c615a4149773d.jpg                    /m/01g317                                         [/m/0jyfg]\n",
            "132  365330414672512b3459303d.jpg                                               [/m/026wh99, /m/01c8br, /m/05s2s]\n",
            "133  57715330495432736175673d.jpg                                                                      [/m/07j7r]\n",
            "134  33394e5557632f4c6935673d.jpg                                                                      [/m/04scj]\n",
            "135  35307a7834483238792f303d.jpg                     /m/05s2s                                         [/m/07j7r]\n",
            "136  676f64352b6b772b414a553d.jpg                                                  [/m/0342h, /m/02sgy, /m/04szw]\n",
            "137  78702f7733637a6e6a53343d.jpg                                       [/m/01g317, /m/09jwl, /m/04rlf, /m/04szw]\n",
            "138  62504b546d3077526646633d.jpg                                                                       [/m/0k5j]\n",
            "139  55735a2b7863446f3871673d.jpg                               [/m/07bsy, /m/05zdp, /m/01bjv, /m/01g317, /m/0...\n",
            "140  305061484763567135376f3d.jpg                     /m/05s2s                     [/m/07j7r, /m/083vt, /m/05s2s]\n",
            "141  62616e6271314674574c593d.jpg                                                 [/m/01g317, /m/09jwl, /m/039v1]\n",
            "142  484b746f6c70383270376f3d.jpg            /m/03jm5,/m/05wrt       [/m/01c8br, /m/09p3jz, /m/02mgm6, /m/0180xr]\n",
            "143  632b3163543132615074343d.jpg                                        [/m/0jjw, /m/09qqq, /m/07vwy6, /m/034wh]\n",
            "144  333863456a4b796b6f61493d.jpg                                                                     [/m/01g317]\n",
            "145  5a3357763955566b6a35383d.jpg            /m/03jm5,/m/05wrt                             [/m/01g317, /m/035y33]\n",
            "146  4a61344e7a43362f6350733d.jpg                                       [/m/0jjw, /m/07vwy6, /m/034wh, /m/01c8br]\n",
            "147  7151534b4d4b4f4c5344733d.jpg                                                           [/m/05wrt, /m/0180xr]\n",
            "148  4671473476734b455846553d.jpg                     /m/05s2s                 [/m/0brn2d, /m/01vxzc, /m/0263lr1]\n",
            "149  4c657844463956365366303d.jpg                     /m/05s2s                                        [/m/01g317]\n",
            "150  6a4f4d4132595257616e773d.jpg                               [/m/0dx1j, /m/09p3jz, /m/017r8p, /m/01g317, /m...\n",
            "151  4978553831476a37777a303d.jpg                     /m/05s2s                                         [/m/07j7r]\n",
            "152  49534761586c47772b70413d.jpg                    /m/01g317                                                 []\n",
            "153  6537543638706d55426c303d.jpg                     /m/05s2s                            [/m/0gl2ny2, /m/01g317]\n",
            "154  486632504d4263466a446f3d.jpg                    /m/01g317          [/m/0jjw, /m/02csf, /m/01g317, /m/06z37_]\n",
            "155  49552b494b424665714e633d.jpg                                                          [/m/01g317, /m/035y33]\n",
            "156  5445786a50793538444c673d.jpg                               [/m/09rgp, /m/0_mjp, /m/0199g, /m/01g317, /m/0...\n",
            "157  35724136613367643549493d.jpg                                                           [/m/03fp41, /m/05s2s]\n",
            "158  364f7167564566373646773d.jpg                                                            [/m/06m11, /m/02csf]\n",
            "159  76366f7833414f385463343d.jpg            /m/01g317,/m/0jjw                               [/m/0jjw, /m/07vwy6]\n",
            "160  6e4b5062425971494a79303d.jpg                               [/m/0cfzkp, /m/0539n0, /m/0180xr, /m/01g317, /...\n",
            "161  6c5564756c5736397555493d.jpg                                                                     [/m/01g317]\n",
            "162  52707a692b686e696837633d.jpg                                                            [/m/0199g, /m/09rgp]\n",
            "163  48336849446952645545553d.jpg                                                            [/m/07bsy, /m/09rgp]\n",
            "164  52597554313568313959453d.jpg                                                           [/m/07yv9, /m/0crtnw]\n",
            "165  4d614d5573774d4b4f486f3d.jpg                     /m/05s2s                               [/m/07j7r, /m/05s2s]\n",
            "166  6a4950625a735a774f66633d.jpg                      /m/0jjw         [/m/0199g, /m/01g317, /m/03p2h9, /m/09rgp]\n",
            "167  4f76586779774b666357633d.jpg                    /m/01g317  [/m/02mgm6, /m/0199g, /m/0335j, /m/01sgl, /m/0...\n",
            "168  6531544b4b6953596255383d.jpg                                                           [/m/0199g, /m/03p2h9]\n",
            "169  356c527246694b4e6557733d.jpg                                               [/m/01yrx, /m/012c9l, /m/02rcwpb]\n",
            "170  696e786c634f70707835413d.jpg                                                 [/m/05zdp, /m/07bsy, /m/01g317]\n",
            "171  755333687757324a4675513d.jpg            /m/05s2s,/m/07j7r                                         [/m/05s2s]\n",
            "172  4a4b514e416449537a43303d.jpg                    /m/01g317                                                 []\n",
            "173  7a51386763636f6d6645303d.jpg                                                [/m/02csf, /m/01g317, /m/07glzq]\n",
            "174  6e3338686f6650623369343d.jpg                                                                      [/m/0cxn2]\n",
            "175  527162464d6e57444b7a303d.jpg                    /m/01g317                                        [/m/01fklc]\n",
            "176  30376f56424d4b586a62553d.jpg                                                          [/m/01g317, /m/0180xr]\n",
            "177  6e2b7549686b31442b72343d.jpg                                                 [/m/05zdp, /m/07bsy, /m/01g317]\n",
            "178  317866504c4541736877553d.jpg                                                                      [/m/05wrt]\n",
            "179  5076676e703571354f71303d.jpg                                                 [/m/0jjw, /m/07vwy6, /m/01c8br]\n",
            "180  466d712f4d4f32664a716f3d.jpg                                                          [/m/01lwf0, /m/0180xr]\n",
            "181  6b7a646973616f6b6e2b493d.jpg                     /m/05qdh                                         [/m/01yrx]\n",
            "182  452f5458704736567665553d.jpg                    /m/01g317                   [/m/01g317, /m/0dzct, /m/012qyb]\n",
            "183  5a71416e54573770382f453d.jpg                                                            [/m/0l7_8, /m/04tdh]\n",
            "184  3134415a377751683576413d.jpg                                                                      [/m/0199g]\n",
            "185  47326c48754867432f62513d.jpg                                               [/m/0f4s2w, /m/01g317, /m/06ts_6]\n",
            "186  56516841626431355678633d.jpg                                                                      [/m/01yrx]\n",
            "187  59644937456e62796955493d.jpg                                                                      [/m/05wrt]\n",
            "188  4737374a483462736a4e6f3d.jpg                                                [/m/01c8br, /m/03jm5, /m/0180xr]\n",
            "189  31646676762b64445976513d.jpg                                                                              []\n",
            "190  517550423779766a6d536f3d.jpg                                                            [/m/07j7r, /m/083vt]\n",
            "191  5757422f6751566b4836493d.jpg                                                                      [/m/0g6b5]\n"
          ],
          "name": "stdout"
        }
      ]
    },
    {
      "cell_type": "code",
      "metadata": {
        "id": "5Q5PfwalQvwP",
        "colab_type": "code",
        "colab": {}
      },
      "source": [
        "\n",
        "\n",
        "train = pd.read_csv(dir + 'tuning_labels.csv', nrows=1000)\n",
        "        #print(train)\n",
        "        #train = pd.read_csv(dir + 'train_machine_labels.csv', nrows=1000)\n",
        "        #print(train)\n",
        "        #train = pd.read_csv(dir + 'train_labels.csv', nrows=1000)\n",
        "        #print(train)\n",
        "train = pd.read_csv(dir + 'train_human_labels.csv', nrows=1000)\n",
        "#print(train)\n",
        "        #train = pd.read_csv(dir + 'train_bounding_boxes.csv', nrows=1000)\n",
        "        #print(train)\n",
        "        #train = pd.read_csv(dir + 'classes-trainable.csv', nrows=1000)\n",
        "        #print(train)\n",
        "label_descriptions = pd.read_csv(dir + 'class-descriptions.csv', nrows=1000)\n",
        "train = pd.read_csv(dir + 'train-images-boxable-with-rotation.csv', nrows=5000)\n",
        "\n",
        "print(train)"
      ],
      "execution_count": 0,
      "outputs": []
    },
    {
      "cell_type": "code",
      "metadata": {
        "id": "bszyW5rQR_L8",
        "colab_type": "code",
        "colab": {}
      },
      "source": [
        ""
      ],
      "execution_count": 0,
      "outputs": []
    },
    {
      "cell_type": "code",
      "metadata": {
        "id": "dkeZwyBYQX-r",
        "colab_type": "code",
        "colab": {}
      },
      "source": [
        ""
      ],
      "execution_count": 0,
      "outputs": []
    }
  ]
}